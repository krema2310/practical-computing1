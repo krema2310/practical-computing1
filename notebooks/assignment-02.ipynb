{
 "cells": [
  {
   "cell_type": "markdown",
   "id": "b03b1f98-fea8-4e2f-8f2c-26c7252d750f",
   "metadata": {},
   "source": [
    "# Assignment 02"
   ]
  },
  {
   "attachments": {},
   "cell_type": "markdown",
   "id": "16bf256a",
   "metadata": {},
   "source": [
    "Some of the problems in this assignment require additional files to test them. The sample files are created using `%%file` right after the problem desciption. \n",
    "\n",
    "Please clik on the `Run All Cells` menu item from the `Run` menu to execute all the cells and create the required files before you start solving the problems. Please note that you just need to do that only once."
   ]
  },
  {
   "cell_type": "markdown",
   "id": "51b4d2b2-6d73-4a5f-85a6-e4a1b8a2a3e4",
   "metadata": {},
   "source": [
    "## Problem 1: Digit Count"
   ]
  },
  {
   "attachments": {},
   "cell_type": "markdown",
   "id": "5bd354c1",
   "metadata": {},
   "source": [
    "Write a function `digit_count` that takes a number and a digit as argument and returns the number of times the digit is present in that number.\n",
    "\n",
    "```python\n",
    ">>> digit_count(1231, 1)\n",
    "2\n",
    ">>> digit_count(1231, 3)\n",
    "1\n",
    ">>> digit_count(1231, 9)\n",
    "0\n",
    "```\n",
    "\n",
    "**Hint:**\n",
    "\n",
    "```python\n",
    ">>> \"mathematics\".count(\"mat\")\n",
    "2\n",
    "```"
   ]
  },
  {
   "cell_type": "code",
   "execution_count": 84,
   "id": "17d8e4d5-b1c5-4677-b01e-278f97cd1512",
   "metadata": {},
   "outputs": [],
   "source": [
    " def digit_count(x,n):\n",
    "     z=str(x).count(str(n))\n",
    "     return z\n"
   ]
  },
  {
   "cell_type": "code",
   "execution_count": 85,
   "id": "211e9f05-caef-4bd3-a756-665335025093",
   "metadata": {},
   "outputs": [
    {
     "data": {
      "text/plain": [
       "3"
      ]
     },
     "execution_count": 85,
     "metadata": {},
     "output_type": "execute_result"
    }
   ],
   "source": [
    "digit_count(555,5)"
   ]
  },
  {
   "cell_type": "markdown",
   "id": "7b4e0faf",
   "metadata": {},
   "source": [
    "## Problem 2: Despace\n",
    "\n",
    "Write a function `despace` to remove all the spaces from a string.\n",
    "\n",
    "```python\n",
    ">>> despace(\"hello world\")\n",
    "'helloworld'\n",
    ">>> despace(\"a b c d e\")\n",
    "'abcde'\n",
    ">>> despace(\"pi seconds is a nano century\")\n",
    "'pisecondsisananocentury'\n",
    "```"
   ]
  },
  {
   "cell_type": "code",
   "execution_count": 91,
   "id": "3ca96d8b",
   "metadata": {},
   "outputs": [],
   "source": [
    "sentence =\"hello world\""
   ]
  },
  {
   "cell_type": "code",
   "execution_count": 92,
   "id": "4b4e4043",
   "metadata": {},
   "outputs": [],
   "source": [
    "y=sentence.split()"
   ]
  },
  {
   "cell_type": "code",
   "execution_count": 93,
   "id": "681c58ec-12db-43a5-b2bf-0335e2c30687",
   "metadata": {},
   "outputs": [
    {
     "data": {
      "text/plain": [
       "['hello', 'world']"
      ]
     },
     "execution_count": 93,
     "metadata": {},
     "output_type": "execute_result"
    }
   ],
   "source": [
    "y"
   ]
  },
  {
   "cell_type": "code",
   "execution_count": 94,
   "id": "d3b8e871-99d2-410c-a391-03884d8dcfda",
   "metadata": {},
   "outputs": [
    {
     "data": {
      "text/plain": [
       "'hello'"
      ]
     },
     "execution_count": 94,
     "metadata": {},
     "output_type": "execute_result"
    }
   ],
   "source": [
    "y[0]"
   ]
  },
  {
   "cell_type": "code",
   "execution_count": 95,
   "id": "fb707791-d94f-4121-a08f-bcf9bd848056",
   "metadata": {},
   "outputs": [
    {
     "data": {
      "text/plain": [
       "'helloworld'"
      ]
     },
     "execution_count": 95,
     "metadata": {},
     "output_type": "execute_result"
    }
   ],
   "source": [
    "y[0]+y[1]"
   ]
  },
  {
   "cell_type": "code",
   "execution_count": 127,
   "id": "1e98fc2d-a1d4-408f-8570-a5a1bee8aa6b",
   "metadata": {},
   "outputs": [],
   "source": [
    "def despace(z):\n",
    "    f=z.split()\n",
    "    h=len(f)\n",
    "    for i in range(0,h):\n",
    "        p=\"\".join(f)\n",
    "    return p"
   ]
  },
  {
   "cell_type": "code",
   "execution_count": 128,
   "id": "48748cf1-cd34-40ae-aa61-63314d08532f",
   "metadata": {},
   "outputs": [
    {
     "data": {
      "text/plain": [
       "'Iamfine'"
      ]
     },
     "execution_count": 128,
     "metadata": {},
     "output_type": "execute_result"
    }
   ],
   "source": [
    "despace(\"I am fine\")"
   ]
  },
  {
   "cell_type": "code",
   "execution_count": 129,
   "id": "c825e054-ce20-49b0-bd1d-24dd410946c9",
   "metadata": {},
   "outputs": [
    {
     "data": {
      "text/plain": [
       "'HelloWorld'"
      ]
     },
     "execution_count": 129,
     "metadata": {},
     "output_type": "execute_result"
    }
   ],
   "source": [
    "despace(\"Hello World\")"
   ]
  },
  {
   "cell_type": "code",
   "execution_count": 130,
   "id": "85f26ea1-9283-4f4b-ab37-ecd14998fa71",
   "metadata": {},
   "outputs": [
    {
     "data": {
      "text/plain": [
       "'abc'"
      ]
     },
     "execution_count": 130,
     "metadata": {},
     "output_type": "execute_result"
    }
   ],
   "source": [
    "despace(\"a b c\")"
   ]
  },
  {
   "attachments": {},
   "cell_type": "markdown",
   "id": "fa3a6d98",
   "metadata": {},
   "source": [
    "## Problem 3: Reverse Words"
   ]
  },
  {
   "attachments": {},
   "cell_type": "markdown",
   "id": "3f39a626",
   "metadata": {},
   "source": [
    "Write a function `reverse_words` that takes a sentence and returns a new sentence with all the words in the reserse order.\n",
    "\n",
    "```\n",
    ">>> reverse_words(\"joy of programming\")\n",
    "'programming of joy'\n",
    "\n",
    ">>> reverse_words(\"less is more\")\n",
    "'more is less'\n",
    "\n",
    ">>> reverse_words(\"road goes ever on and on\")\n",
    "'on and on ever goes road'\n",
    "```\n",
    "\n",
    "Please note that only the order of the words in the sentence is reversed, not the letters in each word."
   ]
  },
  {
   "cell_type": "code",
   "execution_count": 149,
   "id": "a1476745",
   "metadata": {},
   "outputs": [],
   "source": [
    "def reverse_words(z):\n",
    "    y=x.split()\n",
    "    q=y[::-1]\n",
    "    z=\" \".join(q)\n",
    "    return z"
   ]
  },
  {
   "cell_type": "code",
   "execution_count": 155,
   "id": "0948f2fe",
   "metadata": {},
   "outputs": [],
   "source": [
    "x=\"I am not fine\""
   ]
  },
  {
   "cell_type": "code",
   "execution_count": 157,
   "id": "db8022f6-2c22-44e2-bd74-54eb342b2120",
   "metadata": {},
   "outputs": [
    {
     "data": {
      "text/plain": [
       "'fine not am I'"
      ]
     },
     "execution_count": 157,
     "metadata": {},
     "output_type": "execute_result"
    }
   ],
   "source": [
    "reverse_words(z)"
   ]
  },
  {
   "cell_type": "code",
   "execution_count": 158,
   "id": "f38ad81b-820d-4021-890f-47c96c780f53",
   "metadata": {},
   "outputs": [],
   "source": [
    "x=\"joy of programming\""
   ]
  },
  {
   "cell_type": "code",
   "execution_count": 159,
   "id": "11e9dde1-ed76-4e25-b7f1-e9a1107c1a96",
   "metadata": {},
   "outputs": [
    {
     "data": {
      "text/plain": [
       "'programming of joy'"
      ]
     },
     "execution_count": 159,
     "metadata": {},
     "output_type": "execute_result"
    }
   ],
   "source": [
    "reverse_words(z)"
   ]
  },
  {
   "cell_type": "markdown",
   "id": "32667917",
   "metadata": {},
   "source": [
    "## Problem 4: Five Words"
   ]
  },
  {
   "attachments": {},
   "cell_type": "markdown",
   "id": "1252ac2c",
   "metadata": {},
   "source": [
    "Write a function `five_words` that takes a sentence as an argument and returns the part of the sentence with just the first five words.\n",
    "\n",
    "```\n",
    ">>> five_words(\"one two three four five six seven\")\n",
    "'one two three four five'\n",
    "\n",
    ">>> five_words(\"pi seconds is a nano century\")\n",
    "'pi seconds is a nano'\n",
    "\n",
    ">>> five_words(\"Anything that can go wrong, will go wrong.\")\n",
    "'Anythong that can go wrong,'\n",
    "\n",
    ">>> five_words(\"This is fun!\")\n",
    "'This is fun!'\n",
    "```\n",
    "\n",
    "Please note that if the sentence has less than 5 words, than it returns the same sentence."
   ]
  },
  {
   "cell_type": "code",
   "execution_count": 183,
   "id": "ef8afa72",
   "metadata": {},
   "outputs": [],
   "source": [
    "def Five_words(z):\n",
    "     z=y.split()\n",
    "     h=z[:5]\n",
    "     p=\" \".join(h)\n",
    "     return p"
   ]
  },
  {
   "cell_type": "code",
   "execution_count": 186,
   "id": "773af334",
   "metadata": {},
   "outputs": [],
   "source": [
    "y=\"All is well that ends well\""
   ]
  },
  {
   "cell_type": "code",
   "execution_count": 187,
   "id": "267eb1d4",
   "metadata": {},
   "outputs": [
    {
     "data": {
      "text/plain": [
       "'All is well that ends'"
      ]
     },
     "execution_count": 187,
     "metadata": {},
     "output_type": "execute_result"
    }
   ],
   "source": [
    "Five_words(p)"
   ]
  },
  {
   "cell_type": "code",
   "execution_count": 188,
   "id": "8f7af87a",
   "metadata": {},
   "outputs": [],
   "source": [
    "y=\"All is well\""
   ]
  },
  {
   "cell_type": "code",
   "execution_count": 189,
   "id": "cf65a609-04f5-473c-83e6-54afaaa97b66",
   "metadata": {},
   "outputs": [
    {
     "data": {
      "text/plain": [
       "'All is well'"
      ]
     },
     "execution_count": 189,
     "metadata": {},
     "output_type": "execute_result"
    }
   ],
   "source": [
    "Five_words(p)"
   ]
  },
  {
   "attachments": {},
   "cell_type": "markdown",
   "id": "2d829ab6",
   "metadata": {},
   "source": [
    "## Problem 5: Get Extension"
   ]
  },
  {
   "attachments": {},
   "cell_type": "markdown",
   "id": "c3836718",
   "metadata": {},
   "source": [
    "Write a function `getext` that takes a filename as argument and returns the extension of the file. The suffix after the last `.` character in a filename is considered as the extension. For simplicity, assume that given filename will always have an extension.\n",
    "\n",
    "```\n",
    ">>> getext(\"hello.py\")\n",
    "'py'\n",
    ">>> getext(\"code.zip\")\n",
    "'zip'\n",
    ">>> getext(\"code.tar.gz\")\n",
    "'gz'"
   ]
  },
  {
   "cell_type": "code",
   "execution_count": 18,
   "id": "64edb181-7d5b-4a96-9d7e-e0d617a1a6db",
   "metadata": {},
   "outputs": [],
   "source": [
    "def getext(x):\n",
    "    x=list(y)\n",
    "    p=y.index(\".\")\n",
    "    h=x[p+1:]\n",
    "    z=\"\".join(h)\n",
    "    return z"
   ]
  },
  {
   "cell_type": "code",
   "execution_count": 19,
   "id": "3ca9269a-72a5-4961-88d3-048e40004926",
   "metadata": {},
   "outputs": [],
   "source": [
    "y=\"hellorema.jpg\""
   ]
  },
  {
   "cell_type": "code",
   "execution_count": 20,
   "id": "bf3aefe2-0bcc-47a7-9390-21946f2ea318",
   "metadata": {},
   "outputs": [
    {
     "data": {
      "text/plain": [
       "'jpg'"
      ]
     },
     "execution_count": 20,
     "metadata": {},
     "output_type": "execute_result"
    }
   ],
   "source": [
    "getext(x)"
   ]
  },
  {
   "cell_type": "code",
   "execution_count": 21,
   "id": "c63d4adc-1426-47d9-9e79-be7da9eb2c7b",
   "metadata": {},
   "outputs": [],
   "source": [
    "y=\"code.zip\""
   ]
  },
  {
   "cell_type": "code",
   "execution_count": 22,
   "id": "65f7f250-9da1-4e09-b50c-7f269707f9d8",
   "metadata": {},
   "outputs": [
    {
     "data": {
      "text/plain": [
       "'zip'"
      ]
     },
     "execution_count": 22,
     "metadata": {},
     "output_type": "execute_result"
    }
   ],
   "source": [
    "getext(x)"
   ]
  },
  {
   "attachments": {},
   "cell_type": "markdown",
   "id": "382d67c7",
   "metadata": {},
   "source": [
    "## Problem 6: Print Upper"
   ]
  },
  {
   "attachments": {},
   "cell_type": "markdown",
   "id": "5c26bf0d",
   "metadata": {},
   "source": [
    "Write a function `print_upper` that takes a filename as argument and prints all the contents of the file in uppercase.\n",
    "\n",
    "```\n",
    ">>> print_upper(\"five.txt\")\n",
    "ONE\n",
    "TWO\n",
    "THREE\n",
    "FOUR\n",
    "FIVE\n",
    "```"
   ]
  },
  {
   "cell_type": "code",
   "execution_count": 2,
   "id": "ae3761e8",
   "metadata": {},
   "outputs": [
    {
     "name": "stdout",
     "output_type": "stream",
     "text": [
      "Overwriting five.txt\n"
     ]
    }
   ],
   "source": [
    "%%file five.txt\n",
    "one\n",
    "two\n",
    "three\n",
    "four\n",
    "five"
   ]
  },
  {
   "cell_type": "code",
   "execution_count": 4,
   "id": "95a38aef",
   "metadata": {},
   "outputs": [],
   "source": [
    "lines=open(\"five.txt\").readlines()"
   ]
  },
  {
   "cell_type": "code",
   "execution_count": 5,
   "id": "c16ed64b-b027-4e60-bba2-9b078091248f",
   "metadata": {},
   "outputs": [
    {
     "data": {
      "text/plain": [
       "['one\\n', 'two\\n', 'three\\n', 'four\\n', 'five\\n']"
      ]
     },
     "execution_count": 5,
     "metadata": {},
     "output_type": "execute_result"
    }
   ],
   "source": [
    "lines"
   ]
  },
  {
   "cell_type": "code",
   "execution_count": 10,
   "id": "3c5d5f60-d163-4f4b-a9d6-6ad78f66f77f",
   "metadata": {},
   "outputs": [
    {
     "name": "stdout",
     "output_type": "stream",
     "text": [
      "ONE\n",
      "\n",
      "TWO\n",
      "\n",
      "THREE\n",
      "\n",
      "FOUR\n",
      "\n",
      "FIVE\n",
      "\n"
     ]
    }
   ],
   "source": [
    "for line in lines:\n",
    "     print(line.upper())"
   ]
  },
  {
   "cell_type": "code",
   "execution_count": 49,
   "id": "3e384973-6766-4165-a20c-4e0f37caab37",
   "metadata": {},
   "outputs": [],
   "source": [
    "def print_upper(z):\n",
    "    lines=open(z).readlines()\n",
    "    for line in lines:\n",
    "     print(line.upper())\n",
    "    return z\n",
    "    \n",
    "    "
   ]
  },
  {
   "cell_type": "code",
   "execution_count": 50,
   "id": "8479ebe3-1e50-4a8e-bca3-af059d1fd8e2",
   "metadata": {},
   "outputs": [],
   "source": [
    "z=\"five.txt\""
   ]
  },
  {
   "cell_type": "code",
   "execution_count": 51,
   "id": "1a6e05c2-73f1-4d32-9439-602f309fa1a1",
   "metadata": {},
   "outputs": [
    {
     "name": "stdout",
     "output_type": "stream",
     "text": [
      "ONE\n",
      "\n",
      "TWO\n",
      "\n",
      "THREE\n",
      "\n",
      "FOUR\n",
      "\n",
      "FIVE\n",
      "\n"
     ]
    },
    {
     "data": {
      "text/plain": [
       "'five.txt'"
      ]
     },
     "execution_count": 51,
     "metadata": {},
     "output_type": "execute_result"
    }
   ],
   "source": [
    "print_upper(z)"
   ]
  },
  {
   "cell_type": "code",
   "execution_count": 52,
   "id": "1ad52100-3963-444e-ad31-53c1b8bdf9ac",
   "metadata": {},
   "outputs": [],
   "source": [
    "z=\"8.txt\""
   ]
  },
  {
   "cell_type": "code",
   "execution_count": 53,
   "id": "a262caf2-8f60-4ba0-8ee9-0698a7fd920a",
   "metadata": {},
   "outputs": [
    {
     "name": "stdout",
     "output_type": "stream",
     "text": [
      "1\n",
      "\n",
      "2\n",
      "\n",
      "3\n",
      "\n",
      "4\n",
      "\n",
      "5\n",
      "\n",
      "6\n",
      "\n",
      "7\n",
      "\n",
      "8\n",
      "\n"
     ]
    },
    {
     "data": {
      "text/plain": [
       "'8.txt'"
      ]
     },
     "execution_count": 53,
     "metadata": {},
     "output_type": "execute_result"
    }
   ],
   "source": [
    "print_upper(z)"
   ]
  },
  {
   "cell_type": "code",
   "execution_count": 23,
   "id": "c73cc50f-75b4-4677-b1dc-182accdc2301",
   "metadata": {},
   "outputs": [],
   "source": [
    "y=\"trial.txt\"\n",
    " "
   ]
  },
  {
   "cell_type": "code",
   "execution_count": 25,
   "id": "ba606e8d-920a-495d-9392-dee3b6ee850d",
   "metadata": {},
   "outputs": [],
   "source": [
    "p=y.index(\".\")"
   ]
  },
  {
   "cell_type": "code",
   "execution_count": 26,
   "id": "22b85d94-01a7-478b-b4c5-ad3abf8dbf60",
   "metadata": {},
   "outputs": [
    {
     "name": "stdout",
     "output_type": "stream",
     "text": [
      "5\n"
     ]
    }
   ],
   "source": [
    "print(p)"
   ]
  },
  {
   "cell_type": "code",
   "execution_count": 30,
   "id": "71e5d90e-92ad-4a59-981a-abe4d2a6ca86",
   "metadata": {},
   "outputs": [],
   "source": [
    "def getfilename(x):\n",
    "    x=list(y)\n",
    "    p=y.index(\".\")\n",
    "    h=x[:p]\n",
    "    z=\"\".join(h)\n",
    "    return z"
   ]
  },
  {
   "cell_type": "code",
   "execution_count": 31,
   "id": "383acc14-2e79-49e4-b697-5d77e52cd1df",
   "metadata": {},
   "outputs": [],
   "source": [
    "y=\"hello.txt\""
   ]
  },
  {
   "cell_type": "code",
   "execution_count": 32,
   "id": "168b8cb7-d3f5-4ed2-afd0-7e19a95488fe",
   "metadata": {},
   "outputs": [
    {
     "data": {
      "text/plain": [
       "'hello'"
      ]
     },
     "execution_count": 32,
     "metadata": {},
     "output_type": "execute_result"
    }
   ],
   "source": [
    "getfilename(x)"
   ]
  },
  {
   "cell_type": "code",
   "execution_count": 37,
   "id": "d8f6507e-12d1-4c27-a683-0a6f98a22c07",
   "metadata": {},
   "outputs": [],
   "source": [
    "import os"
   ]
  },
  {
   "cell_type": "code",
   "execution_count": 38,
   "id": "2d5d76b5-e9d1-4b55-97d6-3a1abdfd9c93",
   "metadata": {},
   "outputs": [
    {
     "data": {
      "text/plain": [
       "['.ipynb_checkpoints',\n",
       " '.jupyter',\n",
       " '.virtual_documents',\n",
       " '0-introduction-to-jupytelab.ipynb',\n",
       " '1-taste-of-python.ipynb',\n",
       " '5.txt',\n",
       " '8.txt',\n",
       " 'assignment-01.ipynb',\n",
       " 'assignment-02.ipynb',\n",
       " 'five.txt',\n",
       " 'hello.py',\n",
       " 'introduction-to-python.ipynb',\n",
       " 'Quasicrystal1.jpg',\n",
       " 'Untitled.ipynb']"
      ]
     },
     "execution_count": 38,
     "metadata": {},
     "output_type": "execute_result"
    }
   ],
   "source": [
    "os.listdir()"
   ]
  },
  {
   "attachments": {},
   "cell_type": "markdown",
   "id": "a6069961",
   "metadata": {},
   "source": [
    "## Problem 7: Largest Number In a File"
   ]
  },
  {
   "cell_type": "code",
   "execution_count": null,
   "id": "ae1cc249-06a1-4a35-9538-d5645a2a23e0",
   "metadata": {},
   "outputs": [],
   "source": []
  },
  {
   "attachments": {},
   "cell_type": "markdown",
   "id": "c6e51caf",
   "metadata": {},
   "source": [
    "Write a function `largest_number_in_file` that takes a name of a file containing numbers as an arguments and returns largest number in that file.\n",
    "\n",
    "```\n",
    ">>> largest_number_in_file(\"5.txt\")\n",
    "5\n",
    ">>> largest_number_in_file(\"numbers.txt\")\n",
    "9\n",
    "```\n",
    "\n",
    "The sample input files are provided below.\n",
    "\n",
    "**Hint:**\n",
    "\n",
    "The built-in function `max` takes a list a numbers as arguments and returns the maximum among them.\n",
    "\n",
    "\n",
    "```\n",
    ">>> max([1, 2, 3, 4, 5])\n",
    "5\n",
    "```"
   ]
  },
  {
   "cell_type": "markdown",
   "id": "0fb43ac7",
   "metadata": {},
   "source": [
    "Sample Input Files:"
   ]
  },
  {
   "cell_type": "code",
   "execution_count": null,
   "id": "3f2f56cf",
   "metadata": {},
   "outputs": [],
   "source": [
    "%%file 5.txt\n",
    "1\n",
    "2\n",
    "3\n",
    "4\n",
    "5"
   ]
  },
  {
   "cell_type": "code",
   "execution_count": 59,
   "id": "3073901e",
   "metadata": {},
   "outputs": [
    {
     "name": "stdout",
     "output_type": "stream",
     "text": [
      "Writing numbers.txt\n"
     ]
    }
   ],
   "source": [
    "%%file numbers.txt\n",
    "6\n",
    "1\n",
    "9 \n",
    "2 \n",
    "0\n",
    "5"
   ]
  },
  {
   "cell_type": "markdown",
   "id": "9e37e4de",
   "metadata": {},
   "source": [
    "Your Code:"
   ]
  },
  {
   "cell_type": "code",
   "execution_count": 56,
   "id": "32ddbad2",
   "metadata": {},
   "outputs": [],
   "source": [
    "def largest_number_in_file(z):\n",
    "    lines=open(z).readlines()\n",
    "    for line in lines:\n",
    "        high=max(lines)\n",
    "        print(high)\n",
    "        return z"
   ]
  },
  {
   "cell_type": "code",
   "execution_count": 57,
   "id": "6d708562",
   "metadata": {},
   "outputs": [],
   "source": [
    "z=\"8.txt\""
   ]
  },
  {
   "cell_type": "code",
   "execution_count": 58,
   "id": "43fa53cf",
   "metadata": {},
   "outputs": [
    {
     "name": "stdout",
     "output_type": "stream",
     "text": [
      "8\n",
      "\n"
     ]
    },
    {
     "data": {
      "text/plain": [
       "'8.txt'"
      ]
     },
     "execution_count": 58,
     "metadata": {},
     "output_type": "execute_result"
    }
   ],
   "source": [
    "largest_number_in_file(z)"
   ]
  },
  {
   "cell_type": "code",
   "execution_count": 60,
   "id": "f20a588f-009b-4e5d-b747-b9e3f60d2131",
   "metadata": {},
   "outputs": [],
   "source": [
    "z=\"numbers.txt\""
   ]
  },
  {
   "cell_type": "code",
   "execution_count": 61,
   "id": "6730ef64-8457-4c57-8d91-e4e592fa0ade",
   "metadata": {},
   "outputs": [
    {
     "name": "stdout",
     "output_type": "stream",
     "text": [
      "9 \n",
      "\n"
     ]
    },
    {
     "data": {
      "text/plain": [
       "'numbers.txt'"
      ]
     },
     "execution_count": 61,
     "metadata": {},
     "output_type": "execute_result"
    }
   ],
   "source": [
    "largest_number_in_file(z)"
   ]
  },
  {
   "attachments": {},
   "cell_type": "markdown",
   "id": "5cf3c89e",
   "metadata": {},
   "source": [
    "## Problem 8: Word Count"
   ]
  },
  {
   "attachments": {},
   "cell_type": "markdown",
   "id": "2cad4174",
   "metadata": {},
   "source": [
    "Write a function `word_count` that takes a filename as an argument and returns the number of words present in that file.\n",
    "\n",
    "\n",
    "```\n",
    ">>> word_count(\"words.txt\")\n",
    "10\n",
    ">>> word_count(\"5.txt\")\n",
    "5\n",
    "```"
   ]
  },
  {
   "cell_type": "markdown",
   "id": "f89b01fb",
   "metadata": {},
   "source": [
    "Sample input files:"
   ]
  },
  {
   "cell_type": "code",
   "execution_count": 195,
   "id": "7cf01a94",
   "metadata": {},
   "outputs": [
    {
     "name": "stdout",
     "output_type": "stream",
     "text": [
      "Overwriting words.txt\n"
     ]
    }
   ],
   "source": [
    "%%file words.txt\n",
    "one\n",
    "one two\n",
    "one two three\n",
    "one two three four"
   ]
  },
  {
   "cell_type": "code",
   "execution_count": 97,
   "id": "71b4ca39",
   "metadata": {},
   "outputs": [
    {
     "name": "stdout",
     "output_type": "stream",
     "text": [
      "Overwriting 5.txt\n"
     ]
    }
   ],
   "source": [
    "%%file 5.txt\n",
    "1\n",
    "2\n",
    "3\n",
    "4\n",
    "5"
   ]
  },
  {
   "attachments": {},
   "cell_type": "markdown",
   "id": "594d7d65",
   "metadata": {},
   "source": [
    "Your code:"
   ]
  },
  {
   "cell_type": "code",
   "execution_count": 202,
   "id": "9a619f86",
   "metadata": {},
   "outputs": [],
   "source": [
    "z=\"words.txt\""
   ]
  },
  {
   "cell_type": "code",
   "execution_count": 203,
   "id": "31ddb124",
   "metadata": {},
   "outputs": [],
   "source": [
    "lines=open(z).readlines()"
   ]
  },
  {
   "cell_type": "code",
   "execution_count": 204,
   "id": "38a0ff52-8092-4bf0-9e3f-44dcf43bde9f",
   "metadata": {},
   "outputs": [
    {
     "data": {
      "text/plain": [
       "['one\\n', 'one two\\n', 'one two three\\n', 'one two three four\\n']"
      ]
     },
     "execution_count": 204,
     "metadata": {},
     "output_type": "execute_result"
    }
   ],
   "source": [
    "lines"
   ]
  },
  {
   "cell_type": "code",
   "execution_count": 155,
   "id": "3e305e54",
   "metadata": {},
   "outputs": [
    {
     "name": "stdout",
     "output_type": "stream",
     "text": [
      "one\n",
      "\n",
      "one two\n",
      "\n",
      "one two three\n",
      "\n",
      "one two three four\n",
      "\n"
     ]
    }
   ],
   "source": [
    "for line in lines:\n",
    "    print(line)"
   ]
  },
  {
   "cell_type": "code",
   "execution_count": 191,
   "id": "a6bc80d2-3b4a-4738-8006-4cbb56910db6",
   "metadata": {},
   "outputs": [],
   "source": [
    "p=len(lines)"
   ]
  },
  {
   "cell_type": "code",
   "execution_count": 208,
   "id": "5f79df7a-1ea1-4996-b504-ff78463d9621",
   "metadata": {},
   "outputs": [],
   "source": [
    "for p in range (1,p):\n",
    "     x=len(lines[p].split())\n",
    "     print(x)"
   ]
  },
  {
   "cell_type": "code",
   "execution_count": 210,
   "id": "1ccd5a8d-b301-4fa0-9918-1c0540cd8fb4",
   "metadata": {},
   "outputs": [
    {
     "data": {
      "text/plain": [
       "4"
      ]
     },
     "execution_count": 210,
     "metadata": {},
     "output_type": "execute_result"
    }
   ],
   "source": [
    "x"
   ]
  },
  {
   "cell_type": "code",
   "execution_count": 180,
   "id": "b81a3f26-45f4-4c44-a2e0-3c4afabc67aa",
   "metadata": {},
   "outputs": [],
   "source": [
    "x=len(lines[2].split())"
   ]
  },
  {
   "cell_type": "code",
   "execution_count": 181,
   "id": "4443cbd8-7138-4fa7-8b0c-4f6d18718786",
   "metadata": {},
   "outputs": [
    {
     "name": "stdout",
     "output_type": "stream",
     "text": [
      "3\n"
     ]
    }
   ],
   "source": [
    "print(x)"
   ]
  },
  {
   "cell_type": "code",
   "execution_count": 136,
   "id": "5b22f737-1e4f-431e-a789-706f52cc9bee",
   "metadata": {},
   "outputs": [],
   "source": [
    "word=str(lines[1])+str(lines[2])"
   ]
  },
  {
   "cell_type": "code",
   "execution_count": 137,
   "id": "f254ee13-2471-4235-9221-924ea2c05f4b",
   "metadata": {},
   "outputs": [
    {
     "data": {
      "text/plain": [
       "'one two\\none two three\\n'"
      ]
     },
     "execution_count": 137,
     "metadata": {},
     "output_type": "execute_result"
    }
   ],
   "source": [
    "word"
   ]
  },
  {
   "cell_type": "code",
   "execution_count": 134,
   "id": "59334218-0e08-4464-af1b-3e6a1cb3a89e",
   "metadata": {},
   "outputs": [
    {
     "data": {
      "text/plain": [
       "0"
      ]
     },
     "execution_count": 134,
     "metadata": {},
     "output_type": "execute_result"
    }
   ],
   "source": [
    "lines[0].count(\" \")"
   ]
  },
  {
   "cell_type": "code",
   "execution_count": null,
   "id": "7a3c70b1-fd73-4eda-9979-9ec50a6a25b8",
   "metadata": {},
   "outputs": [],
   "source": [
    "\" \".count"
   ]
  },
  {
   "attachments": {},
   "cell_type": "markdown",
   "id": "d8660845",
   "metadata": {},
   "source": [
    "## Problem 9: List Files"
   ]
  },
  {
   "cell_type": "code",
   "execution_count": null,
   "id": "cf7178a8-6aaf-4060-a8d7-8ba40633e795",
   "metadata": {},
   "outputs": [],
   "source": []
  },
  {
   "attachments": {},
   "cell_type": "markdown",
   "id": "89f82e05",
   "metadata": {},
   "source": [
    "Write a function `list_files` that takes path to a directory and an extension as arguments and returns the list of files in that directory that has the specified extension.\n",
    "\n",
    "```\n",
    ">>> list_files(\"testdata\", \"txt\")\n",
    "[\"a.txt\", \"b.txt\", \"c.txt\"]\n",
    "\n",
    ">>> list_files(\"testdata\", \"py\")\n",
    "[\"hello.py\", \"square.py\"]\n",
    "```"
   ]
  },
  {
   "attachments": {},
   "cell_type": "markdown",
   "id": "bd33a92d",
   "metadata": {},
   "source": [
    "The following commands create the required files for this problem."
   ]
  },
  {
   "cell_type": "code",
   "execution_count": null,
   "id": "ae2e0715",
   "metadata": {},
   "outputs": [],
   "source": [
    "!mkdir testdata\n",
    "!echo > testdata/a.txt\n",
    "!echo > testdata/b.txt\n",
    "!echo > testdata/c.txt\n",
    "!echo > testdata/hello.py\n",
    "!echo > testdata/square.py"
   ]
  },
  {
   "cell_type": "markdown",
   "id": "9759ee06",
   "metadata": {},
   "source": [
    "Your code:"
   ]
  },
  {
   "cell_type": "code",
   "execution_count": null,
   "id": "55c7242e",
   "metadata": {},
   "outputs": [],
   "source": []
  },
  {
   "cell_type": "code",
   "execution_count": null,
   "id": "c922c402",
   "metadata": {},
   "outputs": [],
   "source": []
  },
  {
   "cell_type": "code",
   "execution_count": null,
   "id": "422746b9",
   "metadata": {},
   "outputs": [],
   "source": []
  },
  {
   "cell_type": "code",
   "execution_count": null,
   "id": "2ffa7d07",
   "metadata": {},
   "outputs": [],
   "source": []
  },
  {
   "attachments": {},
   "cell_type": "markdown",
   "id": "2b9551f3",
   "metadata": {},
   "source": [
    "## Problem 10: Grep "
   ]
  },
  {
   "attachments": {},
   "cell_type": "markdown",
   "id": "848f6dd3",
   "metadata": {},
   "source": [
    "Write a function `grep` that takes a pattern and a filename as argument and returns all the lines that contain that pattern.\n",
    "\n",
    "```\n",
    ">>> grep('pipe', 'poem.txt')\n",
    "['So I piped with merry chear,\\n',\n",
    " 'Piper pipe that song again-\\n',\n",
    " 'So I piped, he wept to hear.\\n']\n",
    "\n",
    ">>> grep('hear', 'poem.txt')\n",
    "['So I piped with merry chear,\\n', \n",
    " 'So I piped, he wept to hear.\\n']\n",
    "```"
   ]
  },
  {
   "cell_type": "code",
   "execution_count": null,
   "id": "a2b2a3ff",
   "metadata": {},
   "outputs": [],
   "source": [
    "%%file poem.txt\n",
    "Piping down the valleys wild\n",
    "Piping songs of pleasant glee\n",
    "On a cloud I saw a child.\n",
    "And he laughing said to me.\n",
    "\n",
    "Pipe a song about a Lamb;\n",
    "So I piped with merry chear,\n",
    "Piper pipe that song again-\n",
    "So I piped, he wept to hear."
   ]
  },
  {
   "cell_type": "code",
   "execution_count": null,
   "id": "aaf1d907",
   "metadata": {},
   "outputs": [],
   "source": []
  },
  {
   "cell_type": "code",
   "execution_count": null,
   "id": "a4dca317",
   "metadata": {},
   "outputs": [],
   "source": []
  },
  {
   "cell_type": "code",
   "execution_count": null,
   "id": "cd703291",
   "metadata": {},
   "outputs": [],
   "source": []
  },
  {
   "cell_type": "code",
   "execution_count": null,
   "id": "cc74a744",
   "metadata": {},
   "outputs": [],
   "source": []
  }
 ],
 "metadata": {
  "kernelspec": {
   "display_name": "Python 3 (ipykernel)",
   "language": "python",
   "name": "python3"
  },
  "language_info": {
   "codemirror_mode": {
    "name": "ipython",
    "version": 3
   },
   "file_extension": ".py",
   "mimetype": "text/x-python",
   "name": "python",
   "nbconvert_exporter": "python",
   "pygments_lexer": "ipython3",
   "version": "3.11.7"
  }
 },
 "nbformat": 4,
 "nbformat_minor": 5
}
