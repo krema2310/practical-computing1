{
 "cells": [
  {
   "cell_type": "markdown",
   "id": "b03b1f98-fea8-4e2f-8f2c-26c7252d750f",
   "metadata": {},
   "source": [
    "# Assignment 02"
   ]
  },
  {
   "attachments": {},
   "cell_type": "markdown",
   "id": "16bf256a",
   "metadata": {},
   "source": [
    "Some of the problems in this assignment require additional files to test them. The sample files are created using `%%file` right after the problem desciption. \n",
    "\n",
    "Please clik on the `Run All Cells` menu item from the `Run` menu to execute all the cells and create the required files before you start solving the problems. Please note that you just need to do that only once."
   ]
  },
  {
   "cell_type": "markdown",
   "id": "51b4d2b2-6d73-4a5f-85a6-e4a1b8a2a3e4",
   "metadata": {},
   "source": [
    "## Problem 1: Digit Count"
   ]
  },
  {
   "attachments": {},
   "cell_type": "markdown",
   "id": "5bd354c1",
   "metadata": {},
   "source": [
    "Write a function `digit_count` that takes a number and a digit as argument and returns the number of times the digit is present in that number.\n",
    "\n",
    "```python\n",
    ">>> digit_count(1231, 1)\n",
    "2\n",
    ">>> digit_count(1231, 3)\n",
    "1\n",
    ">>> digit_count(1231, 9)\n",
    "0\n",
    "```\n",
    "\n",
    "**Hint:**\n",
    "\n",
    "```python\n",
    ">>> \"mathematics\".count(\"mat\")\n",
    "2\n",
    "```"
   ]
  },
  {
   "cell_type": "code",
   "execution_count": 84,
   "id": "17d8e4d5-b1c5-4677-b01e-278f97cd1512",
   "metadata": {},
   "outputs": [],
   "source": [
    " def digit_count(x,n):\n",
    "     z=str(x).count(str(n))\n",
    "     return z\n"
   ]
  },
  {
   "cell_type": "code",
   "execution_count": 85,
   "id": "211e9f05-caef-4bd3-a756-665335025093",
   "metadata": {},
   "outputs": [
    {
     "data": {
      "text/plain": [
       "3"
      ]
     },
     "execution_count": 85,
     "metadata": {},
     "output_type": "execute_result"
    }
   ],
   "source": [
    "digit_count(555,5)"
   ]
  },
  {
   "cell_type": "markdown",
   "id": "7b4e0faf",
   "metadata": {},
   "source": [
    "## Problem 2: Despace\n",
    "\n",
    "Write a function `despace` to remove all the spaces from a string.\n",
    "\n",
    "```python\n",
    ">>> despace(\"hello world\")\n",
    "'helloworld'\n",
    ">>> despace(\"a b c d e\")\n",
    "'abcde'\n",
    ">>> despace(\"pi seconds is a nano century\")\n",
    "'pisecondsisananocentury'\n",
    "```"
   ]
  },
  {
   "cell_type": "code",
   "execution_count": 91,
   "id": "3ca96d8b",
   "metadata": {},
   "outputs": [],
   "source": [
    "sentence =\"hello world\""
   ]
  },
  {
   "cell_type": "code",
   "execution_count": 92,
   "id": "4b4e4043",
   "metadata": {},
   "outputs": [],
   "source": [
    "y=sentence.split()"
   ]
  },
  {
   "cell_type": "code",
   "execution_count": 93,
   "id": "681c58ec-12db-43a5-b2bf-0335e2c30687",
   "metadata": {},
   "outputs": [
    {
     "data": {
      "text/plain": [
       "['hello', 'world']"
      ]
     },
     "execution_count": 93,
     "metadata": {},
     "output_type": "execute_result"
    }
   ],
   "source": [
    "y"
   ]
  },
  {
   "cell_type": "code",
   "execution_count": 94,
   "id": "d3b8e871-99d2-410c-a391-03884d8dcfda",
   "metadata": {},
   "outputs": [
    {
     "data": {
      "text/plain": [
       "'hello'"
      ]
     },
     "execution_count": 94,
     "metadata": {},
     "output_type": "execute_result"
    }
   ],
   "source": [
    "y[0]"
   ]
  },
  {
   "cell_type": "code",
   "execution_count": 95,
   "id": "fb707791-d94f-4121-a08f-bcf9bd848056",
   "metadata": {},
   "outputs": [
    {
     "data": {
      "text/plain": [
       "'helloworld'"
      ]
     },
     "execution_count": 95,
     "metadata": {},
     "output_type": "execute_result"
    }
   ],
   "source": [
    "y[0]+y[1]"
   ]
  },
  {
   "cell_type": "code",
   "execution_count": 127,
   "id": "1e98fc2d-a1d4-408f-8570-a5a1bee8aa6b",
   "metadata": {},
   "outputs": [],
   "source": [
    "def despace(z):\n",
    "    f=z.split()\n",
    "    h=len(f)\n",
    "    for i in range(0,h):\n",
    "        p=\"\".join(f)\n",
    "    return p"
   ]
  },
  {
   "cell_type": "code",
   "execution_count": 128,
   "id": "48748cf1-cd34-40ae-aa61-63314d08532f",
   "metadata": {},
   "outputs": [
    {
     "data": {
      "text/plain": [
       "'Iamfine'"
      ]
     },
     "execution_count": 128,
     "metadata": {},
     "output_type": "execute_result"
    }
   ],
   "source": [
    "despace(\"I am fine\")"
   ]
  },
  {
   "cell_type": "code",
   "execution_count": 129,
   "id": "c825e054-ce20-49b0-bd1d-24dd410946c9",
   "metadata": {},
   "outputs": [
    {
     "data": {
      "text/plain": [
       "'HelloWorld'"
      ]
     },
     "execution_count": 129,
     "metadata": {},
     "output_type": "execute_result"
    }
   ],
   "source": [
    "despace(\"Hello World\")"
   ]
  },
  {
   "cell_type": "code",
   "execution_count": 130,
   "id": "85f26ea1-9283-4f4b-ab37-ecd14998fa71",
   "metadata": {},
   "outputs": [
    {
     "data": {
      "text/plain": [
       "'abc'"
      ]
     },
     "execution_count": 130,
     "metadata": {},
     "output_type": "execute_result"
    }
   ],
   "source": [
    "despace(\"a b c\")"
   ]
  },
  {
   "attachments": {},
   "cell_type": "markdown",
   "id": "fa3a6d98",
   "metadata": {},
   "source": [
    "## Problem 3: Reverse Words"
   ]
  },
  {
   "attachments": {},
   "cell_type": "markdown",
   "id": "3f39a626",
   "metadata": {},
   "source": [
    "Write a function `reverse_words` that takes a sentence and returns a new sentence with all the words in the reserse order.\n",
    "\n",
    "```\n",
    ">>> reverse_words(\"joy of programming\")\n",
    "'programming of joy'\n",
    "\n",
    ">>> reverse_words(\"less is more\")\n",
    "'more is less'\n",
    "\n",
    ">>> reverse_words(\"road goes ever on and on\")\n",
    "'on and on ever goes road'\n",
    "```\n",
    "\n",
    "Please note that only the order of the words in the sentence is reversed, not the letters in each word."
   ]
  },
  {
   "cell_type": "code",
   "execution_count": 149,
   "id": "a1476745",
   "metadata": {},
   "outputs": [],
   "source": [
    "def reverse_words(z):\n",
    "    y=x.split()\n",
    "    q=y[::-1]\n",
    "    z=\" \".join(q)\n",
    "    return z"
   ]
  },
  {
   "cell_type": "code",
   "execution_count": 155,
   "id": "0948f2fe",
   "metadata": {},
   "outputs": [],
   "source": [
    "x=\"I am not fine\""
   ]
  },
  {
   "cell_type": "code",
   "execution_count": 157,
   "id": "db8022f6-2c22-44e2-bd74-54eb342b2120",
   "metadata": {},
   "outputs": [
    {
     "data": {
      "text/plain": [
       "'fine not am I'"
      ]
     },
     "execution_count": 157,
     "metadata": {},
     "output_type": "execute_result"
    }
   ],
   "source": [
    "reverse_words(z)"
   ]
  },
  {
   "cell_type": "code",
   "execution_count": 158,
   "id": "f38ad81b-820d-4021-890f-47c96c780f53",
   "metadata": {},
   "outputs": [],
   "source": [
    "x=\"joy of programming\""
   ]
  },
  {
   "cell_type": "code",
   "execution_count": 159,
   "id": "11e9dde1-ed76-4e25-b7f1-e9a1107c1a96",
   "metadata": {},
   "outputs": [
    {
     "data": {
      "text/plain": [
       "'programming of joy'"
      ]
     },
     "execution_count": 159,
     "metadata": {},
     "output_type": "execute_result"
    }
   ],
   "source": [
    "reverse_words(z)"
   ]
  },
  {
   "cell_type": "markdown",
   "id": "32667917",
   "metadata": {},
   "source": [
    "## Problem 4: Five Words"
   ]
  },
  {
   "attachments": {},
   "cell_type": "markdown",
   "id": "1252ac2c",
   "metadata": {},
   "source": [
    "Write a function `five_words` that takes a sentence as an argument and returns the part of the sentence with just the first five words.\n",
    "\n",
    "```\n",
    ">>> five_words(\"one two three four five six seven\")\n",
    "'one two three four five'\n",
    "\n",
    ">>> five_words(\"pi seconds is a nano century\")\n",
    "'pi seconds is a nano'\n",
    "\n",
    ">>> five_words(\"Anything that can go wrong, will go wrong.\")\n",
    "'Anythong that can go wrong,'\n",
    "\n",
    ">>> five_words(\"This is fun!\")\n",
    "'This is fun!'\n",
    "```\n",
    "\n",
    "Please note that if the sentence has less than 5 words, than it returns the same sentence."
   ]
  },
  {
   "cell_type": "code",
   "execution_count": 183,
   "id": "ef8afa72",
   "metadata": {},
   "outputs": [],
   "source": [
    "def Five_words(z):\n",
    "     z=y.split()\n",
    "     h=z[:5]\n",
    "     p=\" \".join(h)\n",
    "     return p"
   ]
  },
  {
   "cell_type": "code",
   "execution_count": 186,
   "id": "773af334",
   "metadata": {},
   "outputs": [],
   "source": [
    "y=\"All is well that ends well\""
   ]
  },
  {
   "cell_type": "code",
   "execution_count": 187,
   "id": "267eb1d4",
   "metadata": {},
   "outputs": [
    {
     "data": {
      "text/plain": [
       "'All is well that ends'"
      ]
     },
     "execution_count": 187,
     "metadata": {},
     "output_type": "execute_result"
    }
   ],
   "source": [
    "Five_words(p)"
   ]
  },
  {
   "cell_type": "code",
   "execution_count": 188,
   "id": "8f7af87a",
   "metadata": {},
   "outputs": [],
   "source": [
    "y=\"All is well\""
   ]
  },
  {
   "cell_type": "code",
   "execution_count": 189,
   "id": "cf65a609-04f5-473c-83e6-54afaaa97b66",
   "metadata": {},
   "outputs": [
    {
     "data": {
      "text/plain": [
       "'All is well'"
      ]
     },
     "execution_count": 189,
     "metadata": {},
     "output_type": "execute_result"
    }
   ],
   "source": [
    "Five_words(p)"
   ]
  },
  {
   "attachments": {},
   "cell_type": "markdown",
   "id": "2d829ab6",
   "metadata": {},
   "source": [
    "## Problem 5: Get Extension"
   ]
  },
  {
   "attachments": {},
   "cell_type": "markdown",
   "id": "c3836718",
   "metadata": {},
   "source": [
    "Write a function `getext` that takes a filename as argument and returns the extension of the file. The suffix after the last `.` character in a filename is considered as the extension. For simplicity, assume that given filename will always have an extension.\n",
    "\n",
    "```\n",
    ">>> getext(\"hello.py\")\n",
    "'py'\n",
    ">>> getext(\"code.zip\")\n",
    "'zip'\n",
    ">>> getext(\"code.tar.gz\")\n",
    "'gz'"
   ]
  },
  {
   "cell_type": "code",
   "execution_count": 294,
   "id": "64edb181-7d5b-4a96-9d7e-e0d617a1a6db",
   "metadata": {},
   "outputs": [],
   "source": [
    "def getext(x):\n",
    "    x=list(y)\n",
    "    p=y.index(\".\")\n",
    "    h=x[p+1:]\n",
    "    z=\"\".join(h)\n",
    "    return z"
   ]
  },
  {
   "cell_type": "code",
   "execution_count": 295,
   "id": "3ca9269a-72a5-4961-88d3-048e40004926",
   "metadata": {},
   "outputs": [],
   "source": [
    "y=\"hellorema.jpg\""
   ]
  },
  {
   "cell_type": "code",
   "execution_count": 296,
   "id": "bf3aefe2-0bcc-47a7-9390-21946f2ea318",
   "metadata": {},
   "outputs": [
    {
     "data": {
      "text/plain": [
       "'jpg'"
      ]
     },
     "execution_count": 296,
     "metadata": {},
     "output_type": "execute_result"
    }
   ],
   "source": [
    "getext(x)"
   ]
  },
  {
   "cell_type": "code",
   "execution_count": 297,
   "id": "c63d4adc-1426-47d9-9e79-be7da9eb2c7b",
   "metadata": {},
   "outputs": [],
   "source": [
    "y=\"code.zip\""
   ]
  },
  {
   "cell_type": "code",
   "execution_count": 298,
   "id": "65f7f250-9da1-4e09-b50c-7f269707f9d8",
   "metadata": {},
   "outputs": [
    {
     "data": {
      "text/plain": [
       "'zip'"
      ]
     },
     "execution_count": 298,
     "metadata": {},
     "output_type": "execute_result"
    }
   ],
   "source": [
    "getext(x)"
   ]
  },
  {
   "cell_type": "code",
   "execution_count": 262,
   "id": "e41f1f64-8f06-401c-8853-9a310250f40e",
   "metadata": {},
   "outputs": [
    {
     "name": "stdout",
     "output_type": "stream",
     "text": [
      "['h', 'o', 'n']\n"
     ]
    }
   ],
   "source": [
    "print(h)"
   ]
  },
  {
   "cell_type": "code",
   "execution_count": 226,
   "id": "2dd8d332-48cb-4455-91dc-510ec273c4d9",
   "metadata": {},
   "outputs": [
    {
     "data": {
      "text/plain": [
       "['t', 'x', 't']"
      ]
     },
     "execution_count": 226,
     "metadata": {},
     "output_type": "execute_result"
    }
   ],
   "source": [
    "h"
   ]
  },
  {
   "cell_type": "code",
   "execution_count": 263,
   "id": "7d235883-0193-4921-b013-d4d8aee3c0af",
   "metadata": {},
   "outputs": [
    {
     "data": {
      "text/plain": [
       "'hon'"
      ]
     },
     "execution_count": 263,
     "metadata": {},
     "output_type": "execute_result"
    }
   ],
   "source": [
    "\"\".join(h)"
   ]
  },
  {
   "attachments": {},
   "cell_type": "markdown",
   "id": "382d67c7",
   "metadata": {},
   "source": [
    "## Problem 6: Print Upper"
   ]
  },
  {
   "attachments": {},
   "cell_type": "markdown",
   "id": "5c26bf0d",
   "metadata": {},
   "source": [
    "Write a function `print_upper` that takes a filename as argument and prints all the contents of the file in uppercase.\n",
    "\n",
    "```\n",
    ">>> print_upper(\"five.txt\")\n",
    "ONE\n",
    "TWO\n",
    "THREE\n",
    "FOUR\n",
    "FIVE\n",
    "```"
   ]
  },
  {
   "cell_type": "code",
   "execution_count": null,
   "id": "ae3761e8",
   "metadata": {},
   "outputs": [],
   "source": [
    "%%file five.txt\n",
    "one\n",
    "two\n",
    "three\n",
    "four\n",
    "five"
   ]
  },
  {
   "cell_type": "code",
   "execution_count": null,
   "id": "95a38aef",
   "metadata": {},
   "outputs": [],
   "source": []
  },
  {
   "cell_type": "code",
   "execution_count": null,
   "id": "739ea19b",
   "metadata": {},
   "outputs": [],
   "source": []
  },
  {
   "cell_type": "code",
   "execution_count": null,
   "id": "51860d01",
   "metadata": {},
   "outputs": [],
   "source": []
  },
  {
   "attachments": {},
   "cell_type": "markdown",
   "id": "a6069961",
   "metadata": {},
   "source": [
    "## Problem 7: Largest Number In a File"
   ]
  },
  {
   "attachments": {},
   "cell_type": "markdown",
   "id": "c6e51caf",
   "metadata": {},
   "source": [
    "Write a function `largest_number_in_file` that takes a name of a file containing numbers as an arguments and returns largest number in that file.\n",
    "\n",
    "```\n",
    ">>> largest_number_in_file(\"5.txt\")\n",
    "5\n",
    ">>> largest_number_in_file(\"numbers.txt\")\n",
    "9\n",
    "```\n",
    "\n",
    "The sample input files are provided below.\n",
    "\n",
    "**Hint:**\n",
    "\n",
    "The built-in function `max` takes a list a numbers as arguments and returns the maximum among them.\n",
    "\n",
    "\n",
    "```\n",
    ">>> max([1, 2, 3, 4, 5])\n",
    "5\n",
    "```"
   ]
  },
  {
   "cell_type": "markdown",
   "id": "0fb43ac7",
   "metadata": {},
   "source": [
    "Sample Input Files:"
   ]
  },
  {
   "cell_type": "code",
   "execution_count": null,
   "id": "3f2f56cf",
   "metadata": {},
   "outputs": [],
   "source": [
    "%%file 5.txt\n",
    "1\n",
    "2\n",
    "3\n",
    "4\n",
    "5"
   ]
  },
  {
   "cell_type": "code",
   "execution_count": null,
   "id": "3073901e",
   "metadata": {},
   "outputs": [],
   "source": [
    "%%file numbers.txt\n",
    "6\n",
    "1\n",
    "9 \n",
    "2 \n",
    "0\n",
    "5"
   ]
  },
  {
   "cell_type": "markdown",
   "id": "9e37e4de",
   "metadata": {},
   "source": [
    "Your Code:"
   ]
  },
  {
   "cell_type": "code",
   "execution_count": null,
   "id": "32ddbad2",
   "metadata": {},
   "outputs": [],
   "source": []
  },
  {
   "cell_type": "code",
   "execution_count": null,
   "id": "6d708562",
   "metadata": {},
   "outputs": [],
   "source": []
  },
  {
   "cell_type": "code",
   "execution_count": null,
   "id": "43fa53cf",
   "metadata": {},
   "outputs": [],
   "source": []
  },
  {
   "attachments": {},
   "cell_type": "markdown",
   "id": "5cf3c89e",
   "metadata": {},
   "source": [
    "## Problem 8: Word Count"
   ]
  },
  {
   "attachments": {},
   "cell_type": "markdown",
   "id": "2cad4174",
   "metadata": {},
   "source": [
    "Write a function `word_count` that takes a filename as an argument and returns the number of words present in that file.\n",
    "\n",
    "\n",
    "```\n",
    ">>> word_count(\"words.txt\")\n",
    "10\n",
    ">>> word_count(\"5.txt\")\n",
    "5\n",
    "```"
   ]
  },
  {
   "cell_type": "markdown",
   "id": "f89b01fb",
   "metadata": {},
   "source": [
    "Sample input files:"
   ]
  },
  {
   "cell_type": "code",
   "execution_count": null,
   "id": "7cf01a94",
   "metadata": {},
   "outputs": [],
   "source": [
    "%%file words.txt\n",
    "one\n",
    "one two\n",
    "one two three\n",
    "one two three four"
   ]
  },
  {
   "cell_type": "code",
   "execution_count": null,
   "id": "71b4ca39",
   "metadata": {},
   "outputs": [],
   "source": [
    "%%file 5.txt\n",
    "1\n",
    "2\n",
    "3\n",
    "4\n",
    "5"
   ]
  },
  {
   "attachments": {},
   "cell_type": "markdown",
   "id": "594d7d65",
   "metadata": {},
   "source": [
    "Your code:"
   ]
  },
  {
   "cell_type": "code",
   "execution_count": null,
   "id": "9a619f86",
   "metadata": {},
   "outputs": [],
   "source": []
  },
  {
   "cell_type": "code",
   "execution_count": null,
   "id": "31ddb124",
   "metadata": {},
   "outputs": [],
   "source": []
  },
  {
   "cell_type": "code",
   "execution_count": null,
   "id": "3e305e54",
   "metadata": {},
   "outputs": [],
   "source": []
  },
  {
   "attachments": {},
   "cell_type": "markdown",
   "id": "d8660845",
   "metadata": {},
   "source": [
    "## Problem 9: List Files"
   ]
  },
  {
   "attachments": {},
   "cell_type": "markdown",
   "id": "89f82e05",
   "metadata": {},
   "source": [
    "Write a function `list_files` that takes path to a directory and an extension as arguments and returns the list of files in that directory that has the specified extension.\n",
    "\n",
    "```\n",
    ">>> list_files(\"testdata\", \"txt\")\n",
    "[\"a.txt\", \"b.txt\", \"c.txt\"]\n",
    "\n",
    ">>> list_files(\"testdata\", \"py\")\n",
    "[\"hello.py\", \"square.py\"]\n",
    "```"
   ]
  },
  {
   "attachments": {},
   "cell_type": "markdown",
   "id": "bd33a92d",
   "metadata": {},
   "source": [
    "The following commands create the required files for this problem."
   ]
  },
  {
   "cell_type": "code",
   "execution_count": null,
   "id": "ae2e0715",
   "metadata": {},
   "outputs": [],
   "source": [
    "!mkdir testdata\n",
    "!echo > testdata/a.txt\n",
    "!echo > testdata/b.txt\n",
    "!echo > testdata/c.txt\n",
    "!echo > testdata/hello.py\n",
    "!echo > testdata/square.py"
   ]
  },
  {
   "cell_type": "markdown",
   "id": "9759ee06",
   "metadata": {},
   "source": [
    "Your code:"
   ]
  },
  {
   "cell_type": "code",
   "execution_count": null,
   "id": "55c7242e",
   "metadata": {},
   "outputs": [],
   "source": []
  },
  {
   "cell_type": "code",
   "execution_count": null,
   "id": "c922c402",
   "metadata": {},
   "outputs": [],
   "source": []
  },
  {
   "cell_type": "code",
   "execution_count": null,
   "id": "422746b9",
   "metadata": {},
   "outputs": [],
   "source": []
  },
  {
   "cell_type": "code",
   "execution_count": null,
   "id": "2ffa7d07",
   "metadata": {},
   "outputs": [],
   "source": []
  },
  {
   "attachments": {},
   "cell_type": "markdown",
   "id": "2b9551f3",
   "metadata": {},
   "source": [
    "## Problem 10: Grep "
   ]
  },
  {
   "attachments": {},
   "cell_type": "markdown",
   "id": "848f6dd3",
   "metadata": {},
   "source": [
    "Write a function `grep` that takes a pattern and a filename as argument and returns all the lines that contain that pattern.\n",
    "\n",
    "```\n",
    ">>> grep('pipe', 'poem.txt')\n",
    "['So I piped with merry chear,\\n',\n",
    " 'Piper pipe that song again-\\n',\n",
    " 'So I piped, he wept to hear.\\n']\n",
    "\n",
    ">>> grep('hear', 'poem.txt')\n",
    "['So I piped with merry chear,\\n', \n",
    " 'So I piped, he wept to hear.\\n']\n",
    "```"
   ]
  },
  {
   "cell_type": "code",
   "execution_count": null,
   "id": "a2b2a3ff",
   "metadata": {},
   "outputs": [],
   "source": [
    "%%file poem.txt\n",
    "Piping down the valleys wild\n",
    "Piping songs of pleasant glee\n",
    "On a cloud I saw a child.\n",
    "And he laughing said to me.\n",
    "\n",
    "Pipe a song about a Lamb;\n",
    "So I piped with merry chear,\n",
    "Piper pipe that song again-\n",
    "So I piped, he wept to hear."
   ]
  },
  {
   "cell_type": "code",
   "execution_count": null,
   "id": "aaf1d907",
   "metadata": {},
   "outputs": [],
   "source": []
  },
  {
   "cell_type": "code",
   "execution_count": null,
   "id": "a4dca317",
   "metadata": {},
   "outputs": [],
   "source": []
  },
  {
   "cell_type": "code",
   "execution_count": null,
   "id": "cd703291",
   "metadata": {},
   "outputs": [],
   "source": []
  },
  {
   "cell_type": "code",
   "execution_count": null,
   "id": "cc74a744",
   "metadata": {},
   "outputs": [],
   "source": []
  }
 ],
 "metadata": {
  "kernelspec": {
   "display_name": "Python 3 (ipykernel)",
   "language": "python",
   "name": "python3"
  },
  "language_info": {
   "codemirror_mode": {
    "name": "ipython",
    "version": 3
   },
   "file_extension": ".py",
   "mimetype": "text/x-python",
   "name": "python",
   "nbconvert_exporter": "python",
   "pygments_lexer": "ipython3",
   "version": "3.11.7"
  }
 },
 "nbformat": 4,
 "nbformat_minor": 5
}
