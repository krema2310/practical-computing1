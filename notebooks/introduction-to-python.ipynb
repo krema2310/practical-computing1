{
 "cells": [
  {
   "cell_type": "markdown",
   "id": "aeef6410",
   "metadata": {},
   "source": [
    "# Introduction to Python"
   ]
  },
  {
   "cell_type": "markdown",
   "id": "d7db579a",
   "metadata": {},
   "source": [
    "## Numbers, Strings, Lists & Dictionaries"
   ]
  },
  {
   "cell_type": "markdown",
   "id": "9f2c4eb1",
   "metadata": {},
   "source": [
    "### Numbers"
   ]
  },
  {
   "cell_type": "code",
   "execution_count": 1,
   "id": "526283aa",
   "metadata": {},
   "outputs": [
    {
     "data": {
      "text/plain": [
       "3"
      ]
     },
     "execution_count": 1,
     "metadata": {},
     "output_type": "execute_result"
    }
   ],
   "source": [
    "1 + 2"
   ]
  },
  {
   "cell_type": "code",
   "execution_count": 2,
   "id": "e007f740",
   "metadata": {},
   "outputs": [
    {
     "data": {
      "text/plain": [
       "32"
      ]
     },
     "execution_count": 2,
     "metadata": {},
     "output_type": "execute_result"
    }
   ],
   "source": [
    "2 ** 5"
   ]
  },
  {
   "cell_type": "markdown",
   "id": "a4ce3b51",
   "metadata": {},
   "source": [
    "Python has floating point numbers."
   ]
  },
  {
   "cell_type": "code",
   "execution_count": 3,
   "id": "89b64010",
   "metadata": {},
   "outputs": [
    {
     "data": {
      "text/plain": [
       "3.5"
      ]
     },
     "execution_count": 3,
     "metadata": {},
     "output_type": "execute_result"
    }
   ],
   "source": [
    "1.2 + 2.3"
   ]
  },
  {
   "cell_type": "code",
   "execution_count": 4,
   "id": "d209a003",
   "metadata": {},
   "outputs": [
    {
     "data": {
      "text/plain": [
       "0.30000000000000004"
      ]
     },
     "execution_count": 4,
     "metadata": {},
     "output_type": "execute_result"
    }
   ],
   "source": [
    "0.1 + 0.2"
   ]
  },
  {
   "cell_type": "markdown",
   "id": "090e2563",
   "metadata": {},
   "source": [
    "See https://0.30000000000000004.com/ to know why this works like this."
   ]
  },
  {
   "cell_type": "markdown",
   "id": "1d4c6248",
   "metadata": {},
   "source": [
    "Pay attention to division of numbers."
   ]
  },
  {
   "cell_type": "code",
   "execution_count": 5,
   "id": "2ef256bc",
   "metadata": {},
   "outputs": [
    {
     "data": {
      "text/plain": [
       "3.5"
      ]
     },
     "execution_count": 5,
     "metadata": {},
     "output_type": "execute_result"
    }
   ],
   "source": [
    "7 / 2"
   ]
  },
  {
   "cell_type": "markdown",
   "id": "13fbcc8c",
   "metadata": {},
   "source": [
    "If you want to do integer division, use the `//` operator."
   ]
  },
  {
   "cell_type": "code",
   "execution_count": 6,
   "id": "5b577420",
   "metadata": {},
   "outputs": [
    {
     "data": {
      "text/plain": [
       "3"
      ]
     },
     "execution_count": 6,
     "metadata": {},
     "output_type": "execute_result"
    }
   ],
   "source": [
    "7 // 2"
   ]
  },
  {
   "cell_type": "markdown",
   "id": "9ab199ea",
   "metadata": {},
   "source": [
    "### Strings"
   ]
  },
  {
   "cell_type": "code",
   "execution_count": 7,
   "id": "f96aeac7",
   "metadata": {},
   "outputs": [
    {
     "data": {
      "text/plain": [
       "'hello'"
      ]
     },
     "execution_count": 7,
     "metadata": {},
     "output_type": "execute_result"
    }
   ],
   "source": [
    "\"hello\""
   ]
  },
  {
   "cell_type": "code",
   "execution_count": 8,
   "id": "b78154be",
   "metadata": {},
   "outputs": [
    {
     "data": {
      "text/plain": [
       "'hello'"
      ]
     },
     "execution_count": 8,
     "metadata": {},
     "output_type": "execute_result"
    }
   ],
   "source": [
    "'hello'"
   ]
  },
  {
   "cell_type": "code",
   "execution_count": 9,
   "id": "11f68c3f",
   "metadata": {},
   "outputs": [
    {
     "data": {
      "text/plain": [
       "'helloworld'"
      ]
     },
     "execution_count": 9,
     "metadata": {},
     "output_type": "execute_result"
    }
   ],
   "source": [
    "\"hello\" + 'world'"
   ]
  },
  {
   "cell_type": "code",
   "execution_count": 10,
   "id": "034d67f3",
   "metadata": {},
   "outputs": [
    {
     "data": {
      "text/plain": [
       "'hellohellohellohellohello'"
      ]
     },
     "execution_count": 10,
     "metadata": {},
     "output_type": "execute_result"
    }
   ],
   "source": [
    "\"hello\" * 5"
   ]
  },
  {
   "cell_type": "code",
   "execution_count": 11,
   "id": "3a941a56",
   "metadata": {},
   "outputs": [
    {
     "data": {
      "text/plain": [
       "\"Let's play\""
      ]
     },
     "execution_count": 11,
     "metadata": {},
     "output_type": "execute_result"
    }
   ],
   "source": [
    "\"Let's play\""
   ]
  },
  {
   "cell_type": "markdown",
   "id": "712dde6d",
   "metadata": {},
   "source": [
    "Python supports multi-line strings. "
   ]
  },
  {
   "cell_type": "code",
   "execution_count": 12,
   "id": "2428491c",
   "metadata": {},
   "outputs": [],
   "source": [
    "message = \"\"\"\n",
    "Hello everyone,\n",
    "\n",
    "Welcome to the Practical computing course!\n",
    "\"\"\""
   ]
  },
  {
   "cell_type": "code",
   "execution_count": 13,
   "id": "c8a1e3a5",
   "metadata": {},
   "outputs": [
    {
     "data": {
      "text/plain": [
       "'\\nHello everyone,\\n\\nWelcome to the Practical computing course!\\n'"
      ]
     },
     "execution_count": 13,
     "metadata": {},
     "output_type": "execute_result"
    }
   ],
   "source": [
    "message"
   ]
  },
  {
   "cell_type": "markdown",
   "id": "69a00e60",
   "metadata": {},
   "source": [
    "The special character `\\n` represents a new line character.Though it is shown as a two characters, it is internally treated as a single character."
   ]
  },
  {
   "cell_type": "code",
   "execution_count": 14,
   "id": "fc74f604",
   "metadata": {},
   "outputs": [
    {
     "name": "stdout",
     "output_type": "stream",
     "text": [
      "\n",
      "Hello everyone,\n",
      "\n",
      "Welcome to the Practical computing course!\n",
      "\n"
     ]
    }
   ],
   "source": [
    "print(message)"
   ]
  },
  {
   "cell_type": "markdown",
   "id": "2b437ad8",
   "metadata": {},
   "source": [
    "**String Formatting**"
   ]
  },
  {
   "cell_type": "markdown",
   "id": "5345c14a",
   "metadata": {},
   "source": [
    "Python uses _format strings_ for string formatting. They are like regular strings, but with a prefix `f`. "
   ]
  },
  {
   "cell_type": "code",
   "execution_count": 15,
   "id": "b8fbdf1c",
   "metadata": {},
   "outputs": [
    {
     "data": {
      "text/plain": [
       "'Hello Python'"
      ]
     },
     "execution_count": 15,
     "metadata": {},
     "output_type": "execute_result"
    }
   ],
   "source": [
    "name = \"Python\"\n",
    "message = f\"Hello {name}\"\n",
    "message"
   ]
  },
  {
   "cell_type": "code",
   "execution_count": 17,
   "id": "e34d947f",
   "metadata": {},
   "outputs": [
    {
     "name": "stdout",
     "output_type": "stream",
     "text": [
      "5 x 1 = 5\n",
      "5 x 2 = 10\n",
      "5 x 3 = 15\n",
      "5 x 4 = 20\n",
      "5 x 5 = 25\n",
      "5 x 6 = 30\n",
      "5 x 7 = 35\n",
      "5 x 8 = 40\n",
      "5 x 9 = 45\n",
      "5 x 10 = 50\n"
     ]
    }
   ],
   "source": [
    "n = 5\n",
    "for i in range(1, 11):\n",
    "    print(f\"{n} x {i} = {n*i}\")"
   ]
  },
  {
   "cell_type": "code",
   "execution_count": 19,
   "id": "9a4301e7",
   "metadata": {},
   "outputs": [
    {
     "name": "stdout",
     "output_type": "stream",
     "text": [
      "5 x 1 = 5\n",
      "5 x 2 = 10\n",
      "5 x 3 = 15\n",
      "5 x 4 = 20\n",
      "5 x 5 = 25\n",
      "5 x 6 = 30\n",
      "5 x 7 = 35\n",
      "5 x 8 = 40\n",
      "5 x 9 = 45\n",
      "5 x 10 = 50\n"
     ]
    }
   ],
   "source": [
    "n = 5\n",
    "for i in range(1, 11):\n",
    "    print(n, \"x\", i, \"=\", n*i)"
   ]
  },
  {
   "cell_type": "markdown",
   "id": "a6b30d0f",
   "metadata": {},
   "source": [
    "String formatting allows controlling spaces."
   ]
  },
  {
   "cell_type": "code",
   "execution_count": 21,
   "id": "039dbcab",
   "metadata": {},
   "outputs": [
    {
     "name": "stdout",
     "output_type": "stream",
     "text": [
      "12 x  1 =  12\n",
      "12 x  2 =  24\n",
      "12 x  3 =  36\n",
      "12 x  4 =  48\n",
      "12 x  5 =  60\n",
      "12 x  6 =  72\n",
      "12 x  7 =  84\n",
      "12 x  8 =  96\n",
      "12 x  9 = 108\n",
      "12 x 10 = 120\n"
     ]
    }
   ],
   "source": [
    "n = 12\n",
    "for i in range(1, 11):\n",
    "    print(f\"{n:2d} x {i:2d} = {n*i:3d}\")"
   ]
  },
  {
   "cell_type": "markdown",
   "id": "8197513f",
   "metadata": {},
   "source": [
    "Python supports unicode text as well."
   ]
  },
  {
   "cell_type": "code",
   "execution_count": 22,
   "id": "6105c433",
   "metadata": {},
   "outputs": [],
   "source": [
    "name = \"ಅಲರ್\""
   ]
  },
  {
   "cell_type": "code",
   "execution_count": 23,
   "id": "6e1819bf",
   "metadata": {},
   "outputs": [
    {
     "name": "stdout",
     "output_type": "stream",
     "text": [
      "Hello, ಅಲರ್\n"
     ]
    }
   ],
   "source": [
    "print(\"Hello,\", name)"
   ]
  },
  {
   "cell_type": "code",
   "execution_count": 29,
   "id": "3e8fd7e4",
   "metadata": {},
   "outputs": [
    {
     "name": "stdout",
     "output_type": "stream",
     "text": [
      "అఆఇఈ\n",
      "ಅಆಇಈ\n",
      "अआइई\n"
     ]
    }
   ],
   "source": [
    "print(\"\\u0c05\\u0c06\\u0c07\\u0c08\") # telugu\n",
    "print(\"\\u0c85\\u0c86\\u0c87\\u0c88\") # kannada\n",
    "print(\"\\u0905\\u0906\\u0907\\u0908\") # hindi"
   ]
  },
  {
   "cell_type": "code",
   "execution_count": 30,
   "id": "3a9ace03",
   "metadata": {},
   "outputs": [],
   "source": [
    "cat = \"\\U0001f638\""
   ]
  },
  {
   "cell_type": "code",
   "execution_count": 31,
   "id": "c8383e78",
   "metadata": {},
   "outputs": [
    {
     "name": "stdout",
     "output_type": "stream",
     "text": [
      "😸\n"
     ]
    }
   ],
   "source": [
    "print(cat)"
   ]
  },
  {
   "cell_type": "code",
   "execution_count": 32,
   "id": "a0232b44",
   "metadata": {},
   "outputs": [
    {
     "name": "stdout",
     "output_type": "stream",
     "text": [
      "😸😸😸😸😸😸😸😸😸😸\n"
     ]
    }
   ],
   "source": [
    "print(cat * 10)"
   ]
  },
  {
   "cell_type": "markdown",
   "id": "3a2cd1ff",
   "metadata": {},
   "source": [
    "### Lists"
   ]
  },
  {
   "cell_type": "code",
   "execution_count": 33,
   "id": "64e6820f",
   "metadata": {},
   "outputs": [
    {
     "data": {
      "text/plain": [
       "[1, 2, 3, 4]"
      ]
     },
     "execution_count": 33,
     "metadata": {},
     "output_type": "execute_result"
    }
   ],
   "source": [
    "[1, 2, 3, 4]"
   ]
  },
  {
   "cell_type": "code",
   "execution_count": 34,
   "id": "b4c01353",
   "metadata": {},
   "outputs": [],
   "source": [
    "x = [1, 2, 3, 4]"
   ]
  },
  {
   "cell_type": "code",
   "execution_count": 35,
   "id": "b77ea87e",
   "metadata": {},
   "outputs": [
    {
     "data": {
      "text/plain": [
       "[1, 2, 3, 4]"
      ]
     },
     "execution_count": 35,
     "metadata": {},
     "output_type": "execute_result"
    }
   ],
   "source": [
    "x"
   ]
  },
  {
   "cell_type": "code",
   "execution_count": 36,
   "id": "f99e62f5",
   "metadata": {},
   "outputs": [
    {
     "data": {
      "text/plain": [
       "4"
      ]
     },
     "execution_count": 36,
     "metadata": {},
     "output_type": "execute_result"
    }
   ],
   "source": [
    "len(x)"
   ]
  },
  {
   "cell_type": "code",
   "execution_count": 37,
   "id": "f70cba37",
   "metadata": {},
   "outputs": [
    {
     "data": {
      "text/plain": [
       "5"
      ]
     },
     "execution_count": 37,
     "metadata": {},
     "output_type": "execute_result"
    }
   ],
   "source": [
    "len(\"hello\")"
   ]
  },
  {
   "cell_type": "code",
   "execution_count": 38,
   "id": "d4fb14d7",
   "metadata": {},
   "outputs": [
    {
     "data": {
      "text/plain": [
       "10"
      ]
     },
     "execution_count": 38,
     "metadata": {},
     "output_type": "execute_result"
    }
   ],
   "source": [
    "sum(x)"
   ]
  },
  {
   "cell_type": "code",
   "execution_count": 39,
   "id": "5966bd82",
   "metadata": {},
   "outputs": [],
   "source": [
    "names = [\"Alice\", \"Bob\", \"Charlie\", \"Dave\"]"
   ]
  },
  {
   "cell_type": "code",
   "execution_count": 40,
   "id": "04f13152",
   "metadata": {},
   "outputs": [
    {
     "data": {
      "text/plain": [
       "4"
      ]
     },
     "execution_count": 40,
     "metadata": {},
     "output_type": "execute_result"
    }
   ],
   "source": [
    "len(names)"
   ]
  },
  {
   "cell_type": "code",
   "execution_count": 41,
   "id": "263b5995",
   "metadata": {},
   "outputs": [
    {
     "data": {
      "text/plain": [
       "'Alice'"
      ]
     },
     "execution_count": 41,
     "metadata": {},
     "output_type": "execute_result"
    }
   ],
   "source": [
    "names[0]"
   ]
  },
  {
   "cell_type": "code",
   "execution_count": 42,
   "id": "9f82c313",
   "metadata": {},
   "outputs": [
    {
     "data": {
      "text/plain": [
       "'Bob'"
      ]
     },
     "execution_count": 42,
     "metadata": {},
     "output_type": "execute_result"
    }
   ],
   "source": [
    "names[1]"
   ]
  },
  {
   "cell_type": "code",
   "execution_count": 43,
   "id": "2bfce91b",
   "metadata": {},
   "outputs": [
    {
     "data": {
      "text/plain": [
       "'Charlie'"
      ]
     },
     "execution_count": 43,
     "metadata": {},
     "output_type": "execute_result"
    }
   ],
   "source": [
    "names[2]"
   ]
  },
  {
   "cell_type": "code",
   "execution_count": 44,
   "id": "63c083d0",
   "metadata": {},
   "outputs": [
    {
     "data": {
      "text/plain": [
       "'Dave'"
      ]
     },
     "execution_count": 44,
     "metadata": {},
     "output_type": "execute_result"
    }
   ],
   "source": [
    "names[3]"
   ]
  },
  {
   "cell_type": "markdown",
   "id": "14a5b9b2",
   "metadata": {},
   "source": [
    "We can use a for loop to iterate over the values of a list."
   ]
  },
  {
   "cell_type": "code",
   "execution_count": 45,
   "id": "af163b2d",
   "metadata": {},
   "outputs": [
    {
     "data": {
      "text/plain": [
       "['Alice', 'Bob', 'Charlie', 'Dave']"
      ]
     },
     "execution_count": 45,
     "metadata": {},
     "output_type": "execute_result"
    }
   ],
   "source": [
    "names"
   ]
  },
  {
   "cell_type": "code",
   "execution_count": 46,
   "id": "46d604aa",
   "metadata": {},
   "outputs": [
    {
     "name": "stdout",
     "output_type": "stream",
     "text": [
      "Hello Alice\n",
      "Hello Bob\n",
      "Hello Charlie\n",
      "Hello Dave\n"
     ]
    }
   ],
   "source": [
    "for name in names:\n",
    "    print(\"Hello\", name)"
   ]
  },
  {
   "cell_type": "markdown",
   "id": "94f66362",
   "metadata": {},
   "source": [
    "### Dictionaries"
   ]
  },
  {
   "cell_type": "code",
   "execution_count": 47,
   "id": "466c28c2",
   "metadata": {},
   "outputs": [],
   "source": [
    "phone_numbers = {\n",
    "    \"Alice\": 1234,\n",
    "    \"Bob\": 2345,\n",
    "    \"Charlie\": 3456\n",
    "}"
   ]
  },
  {
   "cell_type": "code",
   "execution_count": 48,
   "id": "b8b9e15d",
   "metadata": {},
   "outputs": [
    {
     "data": {
      "text/plain": [
       "{'Alice': 1234, 'Bob': 2345, 'Charlie': 3456}"
      ]
     },
     "execution_count": 48,
     "metadata": {},
     "output_type": "execute_result"
    }
   ],
   "source": [
    "phone_numbers"
   ]
  },
  {
   "cell_type": "code",
   "execution_count": 49,
   "id": "bf76ba43",
   "metadata": {},
   "outputs": [
    {
     "data": {
      "text/plain": [
       "1234"
      ]
     },
     "execution_count": 49,
     "metadata": {},
     "output_type": "execute_result"
    }
   ],
   "source": [
    "phone_numbers[\"Alice\"]"
   ]
  },
  {
   "cell_type": "code",
   "execution_count": 50,
   "id": "d431bc4d",
   "metadata": {},
   "outputs": [],
   "source": [
    "phone_numbers[\"Dave\"] = 4567"
   ]
  },
  {
   "cell_type": "code",
   "execution_count": 51,
   "id": "6ad9df53",
   "metadata": {},
   "outputs": [
    {
     "data": {
      "text/plain": [
       "{'Alice': 1234, 'Bob': 2345, 'Charlie': 3456, 'Dave': 4567}"
      ]
     },
     "execution_count": 51,
     "metadata": {},
     "output_type": "execute_result"
    }
   ],
   "source": [
    "phone_numbers"
   ]
  },
  {
   "cell_type": "code",
   "execution_count": 52,
   "id": "ba880707",
   "metadata": {},
   "outputs": [
    {
     "data": {
      "text/plain": [
       "True"
      ]
     },
     "execution_count": 52,
     "metadata": {},
     "output_type": "execute_result"
    }
   ],
   "source": [
    "\"Alice\" in phone_numbers"
   ]
  },
  {
   "cell_type": "code",
   "execution_count": 53,
   "id": "cdb5311f",
   "metadata": {},
   "outputs": [
    {
     "data": {
      "text/plain": [
       "False"
      ]
     },
     "execution_count": 53,
     "metadata": {},
     "output_type": "execute_result"
    }
   ],
   "source": [
    "\"Zoe\" in phone_numbers"
   ]
  },
  {
   "cell_type": "markdown",
   "id": "4c98cbc2",
   "metadata": {},
   "source": [
    "The lists and dictionries could be nested."
   ]
  },
  {
   "cell_type": "code",
   "execution_count": 54,
   "id": "06ea4125",
   "metadata": {},
   "outputs": [],
   "source": [
    "records = [\n",
    "    {\"name\": \"Alice\", \"phone\": 1234},\n",
    "    {\"name\": \"Bob\", \"phone\": 2345},\n",
    "    {\"name\": \"Charlie\", \"phone\": 3456},\n",
    "]"
   ]
  },
  {
   "cell_type": "code",
   "execution_count": 55,
   "id": "deb9a8c2",
   "metadata": {},
   "outputs": [
    {
     "data": {
      "text/plain": [
       "[{'name': 'Alice', 'phone': 1234},\n",
       " {'name': 'Bob', 'phone': 2345},\n",
       " {'name': 'Charlie', 'phone': 3456}]"
      ]
     },
     "execution_count": 55,
     "metadata": {},
     "output_type": "execute_result"
    }
   ],
   "source": [
    "records"
   ]
  },
  {
   "cell_type": "code",
   "execution_count": 57,
   "id": "22b3c335",
   "metadata": {},
   "outputs": [
    {
     "data": {
      "text/plain": [
       "'Alice'"
      ]
     },
     "execution_count": 57,
     "metadata": {},
     "output_type": "execute_result"
    }
   ],
   "source": [
    "records[0]['name']"
   ]
  },
  {
   "cell_type": "code",
   "execution_count": 58,
   "id": "58800bde",
   "metadata": {},
   "outputs": [
    {
     "name": "stdout",
     "output_type": "stream",
     "text": [
      "Alice 1234\n",
      "Bob 2345\n",
      "Charlie 3456\n"
     ]
    }
   ],
   "source": [
    "for r in records:\n",
    "    print(r['name'], r['phone'])"
   ]
  },
  {
   "cell_type": "code",
   "execution_count": 59,
   "id": "fa5be333",
   "metadata": {},
   "outputs": [],
   "source": [
    "d = {\n",
    "    \"name\": \"Alice\",\n",
    "    \"repos\": [\n",
    "        {\n",
    "            \"name\": \"repo1\",\n",
    "            \"full_name\": \"alice/repo1\"\n",
    "        },\n",
    "        {\n",
    "            \"name\": \"repo2\",\n",
    "            \"full_name\": \"alice/repo2\"\n",
    "        }\n",
    "    ]\n",
    "}"
   ]
  },
  {
   "cell_type": "code",
   "execution_count": 60,
   "id": "048a5330",
   "metadata": {},
   "outputs": [
    {
     "data": {
      "text/plain": [
       "[{'name': 'repo1', 'full_name': 'alice/repo1'},\n",
       " {'name': 'repo2', 'full_name': 'alice/repo2'}]"
      ]
     },
     "execution_count": 60,
     "metadata": {},
     "output_type": "execute_result"
    }
   ],
   "source": [
    "d['repos']"
   ]
  },
  {
   "cell_type": "code",
   "execution_count": 61,
   "id": "5d67de84",
   "metadata": {},
   "outputs": [
    {
     "data": {
      "text/plain": [
       "{'name': 'repo2', 'full_name': 'alice/repo2'}"
      ]
     },
     "execution_count": 61,
     "metadata": {},
     "output_type": "execute_result"
    }
   ],
   "source": [
    "d['repos'][1]"
   ]
  },
  {
   "cell_type": "code",
   "execution_count": 62,
   "id": "81c8953a",
   "metadata": {},
   "outputs": [
    {
     "data": {
      "text/plain": [
       "'alice/repo2'"
      ]
     },
     "execution_count": 62,
     "metadata": {},
     "output_type": "execute_result"
    }
   ],
   "source": [
    "d['repos'][1]['full_name']"
   ]
  },
  {
   "cell_type": "code",
   "execution_count": 63,
   "id": "8eb71094",
   "metadata": {},
   "outputs": [
    {
     "data": {
      "text/plain": [
       "{'Alice': 234}"
      ]
     },
     "execution_count": 63,
     "metadata": {},
     "output_type": "execute_result"
    }
   ],
   "source": [
    "{\"Alice\": 123, \"Alice\": 234}"
   ]
  },
  {
   "cell_type": "code",
   "execution_count": 64,
   "id": "f3a04b18",
   "metadata": {},
   "outputs": [],
   "source": [
    "d = {\"Alice\": 123}"
   ]
  },
  {
   "cell_type": "code",
   "execution_count": 65,
   "id": "8383e39b",
   "metadata": {},
   "outputs": [],
   "source": [
    "d[\"Bob\"] = 234"
   ]
  },
  {
   "cell_type": "code",
   "execution_count": 66,
   "id": "322def23",
   "metadata": {},
   "outputs": [
    {
     "data": {
      "text/plain": [
       "{'Alice': 123, 'Bob': 234}"
      ]
     },
     "execution_count": 66,
     "metadata": {},
     "output_type": "execute_result"
    }
   ],
   "source": [
    "d"
   ]
  },
  {
   "cell_type": "code",
   "execution_count": 67,
   "id": "8d063d6b",
   "metadata": {},
   "outputs": [],
   "source": [
    "d['Alice'] = 1234"
   ]
  },
  {
   "cell_type": "code",
   "execution_count": 68,
   "id": "5ec8d01e",
   "metadata": {},
   "outputs": [
    {
     "data": {
      "text/plain": [
       "{'Alice': 1234, 'Bob': 234}"
      ]
     },
     "execution_count": 68,
     "metadata": {},
     "output_type": "execute_result"
    }
   ],
   "source": [
    "d"
   ]
  },
  {
   "cell_type": "markdown",
   "id": "1b06bf4d",
   "metadata": {},
   "source": [
    "## Functions, Methods & Modules"
   ]
  },
  {
   "cell_type": "markdown",
   "id": "de7ebcf9",
   "metadata": {},
   "source": [
    "Python has many built-in functions."
   ]
  },
  {
   "cell_type": "code",
   "execution_count": 70,
   "id": "e2934c8f",
   "metadata": {},
   "outputs": [
    {
     "name": "stdout",
     "output_type": "stream",
     "text": [
      "hello\n"
     ]
    }
   ],
   "source": [
    "print(\"hello\")"
   ]
  },
  {
   "cell_type": "code",
   "execution_count": 71,
   "id": "7f441fca",
   "metadata": {},
   "outputs": [
    {
     "data": {
      "text/plain": [
       "5"
      ]
     },
     "execution_count": 71,
     "metadata": {},
     "output_type": "execute_result"
    }
   ],
   "source": [
    "len(\"hello\")"
   ]
  },
  {
   "cell_type": "code",
   "execution_count": 72,
   "id": "b1dab7fb",
   "metadata": {},
   "outputs": [
    {
     "data": {
      "text/plain": [
       "15"
      ]
     },
     "execution_count": 72,
     "metadata": {},
     "output_type": "execute_result"
    }
   ],
   "source": [
    "sum([1, 2, 3, 4, 5])"
   ]
  },
  {
   "cell_type": "markdown",
   "id": "ca4014ed",
   "metadata": {},
   "source": [
    "Python does not support operatations on incompatible datatypes."
   ]
  },
  {
   "cell_type": "code",
   "execution_count": 73,
   "id": "95a69fde",
   "metadata": {},
   "outputs": [
    {
     "ename": "TypeError",
     "evalue": "unsupported operand type(s) for +: 'int' and 'str'",
     "output_type": "error",
     "traceback": [
      "\u001b[0;31m---------------------------------------------------------------------------\u001b[0m",
      "\u001b[0;31mTypeError\u001b[0m                                 Traceback (most recent call last)",
      "Cell \u001b[0;32mIn[73], line 1\u001b[0m\n\u001b[0;32m----> 1\u001b[0m \u001b[38;5;241;43m1\u001b[39;49m\u001b[43m \u001b[49m\u001b[38;5;241;43m+\u001b[39;49m\u001b[43m \u001b[49m\u001b[38;5;124;43m\"\u001b[39;49m\u001b[38;5;124;43m2\u001b[39;49m\u001b[38;5;124;43m\"\u001b[39;49m\n",
      "\u001b[0;31mTypeError\u001b[0m: unsupported operand type(s) for +: 'int' and 'str'"
     ]
    }
   ],
   "source": [
    "1 + \"2\""
   ]
  },
  {
   "cell_type": "code",
   "execution_count": 74,
   "id": "d8199134",
   "metadata": {},
   "outputs": [
    {
     "data": {
      "text/plain": [
       "'12'"
      ]
     },
     "execution_count": 74,
     "metadata": {},
     "output_type": "execute_result"
    }
   ],
   "source": [
    "str(1) + \"2\""
   ]
  },
  {
   "cell_type": "code",
   "execution_count": 75,
   "id": "e60d16aa",
   "metadata": {},
   "outputs": [
    {
     "data": {
      "text/plain": [
       "3"
      ]
     },
     "execution_count": 75,
     "metadata": {},
     "output_type": "execute_result"
    }
   ],
   "source": [
    "1 + int(\"2\")"
   ]
  },
  {
   "cell_type": "markdown",
   "id": "2c16344f",
   "metadata": {},
   "source": [
    "#### Example: Counting the number of digits in a number"
   ]
  },
  {
   "cell_type": "code",
   "execution_count": 76,
   "id": "ffa745cc",
   "metadata": {},
   "outputs": [
    {
     "data": {
      "text/plain": [
       "12345"
      ]
     },
     "execution_count": 76,
     "metadata": {},
     "output_type": "execute_result"
    }
   ],
   "source": [
    "12345"
   ]
  },
  {
   "cell_type": "code",
   "execution_count": 78,
   "id": "9b46d237",
   "metadata": {},
   "outputs": [
    {
     "data": {
      "text/plain": [
       "10715086071862673209484250490600018105614048117055336074437503883703510511249361224931983788156958581275946729175531468251871452856923140435984577574698574803934567774824230985421074605062371141877954182153046474983581941267398767559165543946077062914571196477686542167660429831652624386837205668069376"
      ]
     },
     "execution_count": 78,
     "metadata": {},
     "output_type": "execute_result"
    }
   ],
   "source": [
    "2 ** 1000"
   ]
  },
  {
   "cell_type": "code",
   "execution_count": 79,
   "id": "1c6e8426",
   "metadata": {},
   "outputs": [
    {
     "ename": "TypeError",
     "evalue": "object of type 'int' has no len()",
     "output_type": "error",
     "traceback": [
      "\u001b[0;31m---------------------------------------------------------------------------\u001b[0m",
      "\u001b[0;31mTypeError\u001b[0m                                 Traceback (most recent call last)",
      "Cell \u001b[0;32mIn[79], line 1\u001b[0m\n\u001b[0;32m----> 1\u001b[0m \u001b[38;5;28;43mlen\u001b[39;49m\u001b[43m(\u001b[49m\u001b[38;5;241;43m12345\u001b[39;49m\u001b[43m)\u001b[49m\n",
      "\u001b[0;31mTypeError\u001b[0m: object of type 'int' has no len()"
     ]
    }
   ],
   "source": [
    "len(12345)"
   ]
  },
  {
   "cell_type": "code",
   "execution_count": 80,
   "id": "83aa1c0f",
   "metadata": {},
   "outputs": [
    {
     "data": {
      "text/plain": [
       "5"
      ]
     },
     "execution_count": 80,
     "metadata": {},
     "output_type": "execute_result"
    }
   ],
   "source": [
    "len(str(12345))"
   ]
  },
  {
   "cell_type": "code",
   "execution_count": 81,
   "id": "1faecaca",
   "metadata": {},
   "outputs": [
    {
     "data": {
      "text/plain": [
       "302"
      ]
     },
     "execution_count": 81,
     "metadata": {},
     "output_type": "execute_result"
    }
   ],
   "source": [
    "len(str(2**1000))"
   ]
  },
  {
   "cell_type": "markdown",
   "id": "4745f700",
   "metadata": {},
   "source": [
    "### Writing our own functions"
   ]
  },
  {
   "cell_type": "code",
   "execution_count": 82,
   "id": "429b75c1",
   "metadata": {},
   "outputs": [],
   "source": [
    "def square(x):\n",
    "    return x*x"
   ]
  },
  {
   "cell_type": "code",
   "execution_count": 83,
   "id": "ed856619",
   "metadata": {},
   "outputs": [
    {
     "data": {
      "text/plain": [
       "16"
      ]
     },
     "execution_count": 83,
     "metadata": {},
     "output_type": "execute_result"
    }
   ],
   "source": [
    "square(4)"
   ]
  },
  {
   "cell_type": "code",
   "execution_count": 84,
   "id": "cfae7995",
   "metadata": {},
   "outputs": [],
   "source": [
    "def square(x):\n",
    "    y = x*x\n",
    "    return y"
   ]
  },
  {
   "cell_type": "code",
   "execution_count": 85,
   "id": "f19ae48a",
   "metadata": {},
   "outputs": [
    {
     "data": {
      "text/plain": [
       "16"
      ]
     },
     "execution_count": 85,
     "metadata": {},
     "output_type": "execute_result"
    }
   ],
   "source": [
    "square(4)"
   ]
  },
  {
   "cell_type": "code",
   "execution_count": 86,
   "id": "05224cce",
   "metadata": {},
   "outputs": [],
   "source": [
    "def add(x, y):\n",
    "    z = x + y\n",
    "    return z"
   ]
  },
  {
   "cell_type": "code",
   "execution_count": 87,
   "id": "d1ea4300",
   "metadata": {},
   "outputs": [
    {
     "data": {
      "text/plain": [
       "7"
      ]
     },
     "execution_count": 87,
     "metadata": {},
     "output_type": "execute_result"
    }
   ],
   "source": [
    "add(3, 4)"
   ]
  },
  {
   "cell_type": "code",
   "execution_count": 89,
   "id": "596be6c3",
   "metadata": {},
   "outputs": [
    {
     "name": "stdout",
     "output_type": "stream",
     "text": [
      "16\n",
      "5\n"
     ]
    }
   ],
   "source": [
    "y = 5\n",
    "\n",
    "def square(x):\n",
    "    # y is a local variable\n",
    "    y = x*x\n",
    "    return y\n",
    "\n",
    "print(square(4))\n",
    "print(y)"
   ]
  },
  {
   "cell_type": "code",
   "execution_count": 90,
   "id": "fcfb97a4",
   "metadata": {},
   "outputs": [
    {
     "name": "stdout",
     "output_type": "stream",
     "text": [
      "25 5\n"
     ]
    }
   ],
   "source": [
    "print(square(y), y)"
   ]
  },
  {
   "cell_type": "code",
   "execution_count": 93,
   "id": "f33b49c0",
   "metadata": {},
   "outputs": [
    {
     "name": "stdout",
     "output_type": "stream",
     "text": [
      "15\n",
      "25\n"
     ]
    }
   ],
   "source": [
    "y = 5\n",
    "\n",
    "def f(x):\n",
    "    z = x + y\n",
    "    return z\n",
    "\n",
    "print(f(10))\n",
    "print(f(20))"
   ]
  },
  {
   "cell_type": "markdown",
   "id": "64550185",
   "metadata": {},
   "source": [
    "**Problem:** Write a function `count_digits` that takes a number as argument and returns the number of digits it has.\n",
    "\n",
    "\n",
    "```\n",
    ">>> count_digits(12345)\n",
    "5\n",
    ">>> count_digits(2 ** 1000)\n",
    "302\n",
    "```"
   ]
  },
  {
   "cell_type": "markdown",
   "id": "9ffa8e7c",
   "metadata": {},
   "source": [
    "**Problem:** Write a function `mean` that takes a list of numbers as argument and returns the mean of those numbers.\n",
    "\n",
    "```\n",
    ">>> mean([1, 2, 3, 4])\n",
    "2.5\n",
    ">>> mean([1, 2, 3, 4, 5])\n",
    "3.0\n",
    "```"
   ]
  },
  {
   "cell_type": "code",
   "execution_count": 94,
   "id": "0d273e93",
   "metadata": {},
   "outputs": [
    {
     "data": {
      "text/plain": [
       "1.2343"
      ]
     },
     "execution_count": 94,
     "metadata": {},
     "output_type": "execute_result"
    }
   ],
   "source": [
    "1.2343"
   ]
  },
  {
   "cell_type": "code",
   "execution_count": 95,
   "id": "7f55b952",
   "metadata": {},
   "outputs": [
    {
     "data": {
      "text/plain": [
       "0.30000000000000004"
      ]
     },
     "execution_count": 95,
     "metadata": {},
     "output_type": "execute_result"
    }
   ],
   "source": [
    "0.1 + 0.2"
   ]
  },
  {
   "cell_type": "code",
   "execution_count": 97,
   "id": "72646684",
   "metadata": {},
   "outputs": [],
   "source": [
    "def mean(values):\n",
    "    return sum(values)/len(values)"
   ]
  },
  {
   "cell_type": "code",
   "execution_count": 98,
   "id": "2f582e43",
   "metadata": {},
   "outputs": [],
   "source": [
    "x = mean([0.1, 0.2, 0.5])"
   ]
  },
  {
   "cell_type": "code",
   "execution_count": 99,
   "id": "59e47015",
   "metadata": {},
   "outputs": [
    {
     "data": {
      "text/plain": [
       "0.26666666666666666"
      ]
     },
     "execution_count": 99,
     "metadata": {},
     "output_type": "execute_result"
    }
   ],
   "source": [
    "x"
   ]
  },
  {
   "cell_type": "code",
   "execution_count": 100,
   "id": "258b1e59",
   "metadata": {},
   "outputs": [
    {
     "name": "stdout",
     "output_type": "stream",
     "text": [
      "mean is 0.267\n"
     ]
    }
   ],
   "source": [
    "print(f\"mean is {x:0.3f}\")"
   ]
  },
  {
   "cell_type": "markdown",
   "id": "e008a662",
   "metadata": {},
   "source": [
    "### Methods"
   ]
  },
  {
   "cell_type": "markdown",
   "id": "6c0e5fd1",
   "metadata": {},
   "source": [
    "Methods are special kind of functions that work on an object."
   ]
  },
  {
   "cell_type": "code",
   "execution_count": 101,
   "id": "3669f0d2",
   "metadata": {},
   "outputs": [],
   "source": [
    "x = \"Hello\""
   ]
  },
  {
   "cell_type": "code",
   "execution_count": 102,
   "id": "68c07555",
   "metadata": {},
   "outputs": [
    {
     "data": {
      "text/plain": [
       "5"
      ]
     },
     "execution_count": 102,
     "metadata": {},
     "output_type": "execute_result"
    }
   ],
   "source": [
    "len(x)"
   ]
  },
  {
   "cell_type": "code",
   "execution_count": 103,
   "id": "d739d3f8",
   "metadata": {},
   "outputs": [
    {
     "data": {
      "text/plain": [
       "'HELLO'"
      ]
     },
     "execution_count": 103,
     "metadata": {},
     "output_type": "execute_result"
    }
   ],
   "source": [
    "x.upper()"
   ]
  },
  {
   "cell_type": "markdown",
   "id": "1ecdd623",
   "metadata": {},
   "source": [
    "`upper` is a method that is available on string objects. "
   ]
  },
  {
   "cell_type": "code",
   "execution_count": 104,
   "id": "67d773ac",
   "metadata": {},
   "outputs": [],
   "source": [
    "y = 'good bye'"
   ]
  },
  {
   "cell_type": "code",
   "execution_count": 105,
   "id": "cd99f6bc",
   "metadata": {},
   "outputs": [
    {
     "data": {
      "text/plain": [
       "'GOOD BYE'"
      ]
     },
     "execution_count": 105,
     "metadata": {},
     "output_type": "execute_result"
    }
   ],
   "source": [
    "y.upper()"
   ]
  },
  {
   "cell_type": "markdown",
   "id": "68514b8b",
   "metadata": {},
   "source": [
    "Methods can also take arguments."
   ]
  },
  {
   "cell_type": "code",
   "execution_count": 106,
   "id": "49f767ff",
   "metadata": {},
   "outputs": [
    {
     "data": {
      "text/plain": [
       "2"
      ]
     },
     "execution_count": 106,
     "metadata": {},
     "output_type": "execute_result"
    }
   ],
   "source": [
    "\"mathematics\".count(\"mat\")"
   ]
  },
  {
   "cell_type": "code",
   "execution_count": 108,
   "id": "6cd1587b",
   "metadata": {},
   "outputs": [
    {
     "data": {
      "text/plain": [
       "'ratheratics'"
      ]
     },
     "execution_count": 108,
     "metadata": {},
     "output_type": "execute_result"
    }
   ],
   "source": [
    "\"mathematics\".replace(\"mat\", \"rat\")"
   ]
  },
  {
   "cell_type": "code",
   "execution_count": 113,
   "id": "3f623e9d",
   "metadata": {},
   "outputs": [
    {
     "name": "stdout",
     "output_type": "stream",
     "text": [
      "Overwriting five.txt\n"
     ]
    }
   ],
   "source": [
    "%%file five.txt\n",
    "1 one\n",
    "2 two\n",
    "3 three\n",
    "4 four\n",
    "5 five"
   ]
  },
  {
   "cell_type": "code",
   "execution_count": 114,
   "id": "6171899c",
   "metadata": {},
   "outputs": [
    {
     "data": {
      "text/plain": [
       "'1 one\\n'"
      ]
     },
     "execution_count": 114,
     "metadata": {},
     "output_type": "execute_result"
    }
   ],
   "source": [
    "open(\"five.txt\").readline()"
   ]
  },
  {
   "cell_type": "code",
   "execution_count": 115,
   "id": "e316f2df",
   "metadata": {},
   "outputs": [
    {
     "data": {
      "text/plain": [
       "'1 one'"
      ]
     },
     "execution_count": 115,
     "metadata": {},
     "output_type": "execute_result"
    }
   ],
   "source": [
    "open(\"five.txt\").readline().strip()"
   ]
  },
  {
   "cell_type": "code",
   "execution_count": 116,
   "id": "cc0ad790",
   "metadata": {},
   "outputs": [
    {
     "data": {
      "text/plain": [
       "['1', 'one']"
      ]
     },
     "execution_count": 116,
     "metadata": {},
     "output_type": "execute_result"
    }
   ],
   "source": [
    "open(\"five.txt\").readline().strip().split()"
   ]
  },
  {
   "cell_type": "code",
   "execution_count": 119,
   "id": "c03379bb",
   "metadata": {},
   "outputs": [
    {
     "name": "stdout",
     "output_type": "stream",
     "text": [
      "hello\n"
     ]
    }
   ],
   "source": [
    "# print a string \"hello\"\n",
    "print(\"hello\")"
   ]
  },
  {
   "cell_type": "code",
   "execution_count": 118,
   "id": "8075f7a9",
   "metadata": {},
   "outputs": [
    {
     "ename": "NameError",
     "evalue": "name 'hello' is not defined",
     "output_type": "error",
     "traceback": [
      "\u001b[0;31m---------------------------------------------------------------------------\u001b[0m",
      "\u001b[0;31mNameError\u001b[0m                                 Traceback (most recent call last)",
      "Cell \u001b[0;32mIn[118], line 1\u001b[0m\n\u001b[0;32m----> 1\u001b[0m \u001b[38;5;28mprint\u001b[39m(\u001b[43mhello\u001b[49m) \n",
      "\u001b[0;31mNameError\u001b[0m: name 'hello' is not defined"
     ]
    }
   ],
   "source": [
    "# looking for a variable hello\n",
    "print(hello) "
   ]
  },
  {
   "cell_type": "code",
   "execution_count": 120,
   "id": "d93e0171",
   "metadata": {},
   "outputs": [
    {
     "data": {
      "text/plain": [
       "<_io.TextIOWrapper name='five.txt' mode='r' encoding='UTF-8'>"
      ]
     },
     "execution_count": 120,
     "metadata": {},
     "output_type": "execute_result"
    }
   ],
   "source": [
    "# opening a file with name \"five.txt\"\n",
    "open(\"five.txt\")"
   ]
  },
  {
   "cell_type": "code",
   "execution_count": 121,
   "id": "b2baf01b",
   "metadata": {},
   "outputs": [
    {
     "data": {
      "text/plain": [
       "<_io.TextIOWrapper name='five.txt' mode='r' encoding='UTF-8'>"
      ]
     },
     "execution_count": 121,
     "metadata": {},
     "output_type": "execute_result"
    }
   ],
   "source": [
    "# open the file whose value is specified by the variable filename\n",
    "filename = 'five.txt'\n",
    "open(filename)"
   ]
  },
  {
   "cell_type": "code",
   "execution_count": 122,
   "id": "125272c7",
   "metadata": {},
   "outputs": [
    {
     "ename": "NameError",
     "evalue": "name 'five' is not defined",
     "output_type": "error",
     "traceback": [
      "\u001b[0;31m---------------------------------------------------------------------------\u001b[0m",
      "\u001b[0;31mNameError\u001b[0m                                 Traceback (most recent call last)",
      "Cell \u001b[0;32mIn[122], line 2\u001b[0m\n\u001b[1;32m      1\u001b[0m \u001b[38;5;66;03m# looking for variable five and then an attribute txt on that value\u001b[39;00m\n\u001b[0;32m----> 2\u001b[0m \u001b[38;5;28mopen\u001b[39m(\u001b[43mfive\u001b[49m\u001b[38;5;241m.\u001b[39mtxt)\n",
      "\u001b[0;31mNameError\u001b[0m: name 'five' is not defined"
     ]
    }
   ],
   "source": [
    "# looking for variable five and then an attribute txt on that value\n",
    "open(five.txt)"
   ]
  },
  {
   "cell_type": "markdown",
   "id": "bbbbde6d",
   "metadata": {},
   "source": [
    "### Splitting and Joining Strings"
   ]
  },
  {
   "cell_type": "code",
   "execution_count": 123,
   "id": "7e9db2f1",
   "metadata": {},
   "outputs": [],
   "source": [
    "sentence = \"Anything that can go wrong, will go wrong.\""
   ]
  },
  {
   "cell_type": "code",
   "execution_count": 124,
   "id": "50056329",
   "metadata": {},
   "outputs": [
    {
     "data": {
      "text/plain": [
       "['Anything', 'that', 'can', 'go', 'wrong,', 'will', 'go', 'wrong.']"
      ]
     },
     "execution_count": 124,
     "metadata": {},
     "output_type": "execute_result"
    }
   ],
   "source": [
    "sentence.split()"
   ]
  },
  {
   "cell_type": "markdown",
   "id": "bcdda2d3",
   "metadata": {},
   "source": [
    "The `split()` method splits on any white space."
   ]
  },
  {
   "cell_type": "markdown",
   "id": "5cf0330d",
   "metadata": {},
   "source": [
    "We can also specify the delimeter to split on."
   ]
  },
  {
   "cell_type": "code",
   "execution_count": 125,
   "id": "c231469d",
   "metadata": {},
   "outputs": [
    {
     "data": {
      "text/plain": [
       "['Anything that can go wrong', ' will go wrong.']"
      ]
     },
     "execution_count": 125,
     "metadata": {},
     "output_type": "execute_result"
    }
   ],
   "source": [
    "sentence.split(\",\")"
   ]
  },
  {
   "cell_type": "markdown",
   "id": "223b194e",
   "metadata": {},
   "source": [
    "Let's see how to join back."
   ]
  },
  {
   "cell_type": "code",
   "execution_count": 126,
   "id": "9ef5c0db",
   "metadata": {},
   "outputs": [],
   "source": [
    "sep = \"-\""
   ]
  },
  {
   "cell_type": "code",
   "execution_count": 127,
   "id": "c978b35d",
   "metadata": {},
   "outputs": [
    {
     "data": {
      "text/plain": [
       "'a-b-c'"
      ]
     },
     "execution_count": 127,
     "metadata": {},
     "output_type": "execute_result"
    }
   ],
   "source": [
    "sep.join([\"a\", \"b\", \"c\"])"
   ]
  },
  {
   "cell_type": "code",
   "execution_count": 128,
   "id": "aa1efe66",
   "metadata": {},
   "outputs": [
    {
     "data": {
      "text/plain": [
       "'a-b-c'"
      ]
     },
     "execution_count": 128,
     "metadata": {},
     "output_type": "execute_result"
    }
   ],
   "source": [
    "\"-\".join([\"a\", \"b\", \"c\"])"
   ]
  },
  {
   "cell_type": "code",
   "execution_count": 129,
   "id": "e63b4b1a",
   "metadata": {},
   "outputs": [
    {
     "data": {
      "text/plain": [
       "'Anything that can go wrong, will go wrong.'"
      ]
     },
     "execution_count": 129,
     "metadata": {},
     "output_type": "execute_result"
    }
   ],
   "source": [
    "sentence"
   ]
  },
  {
   "cell_type": "code",
   "execution_count": 130,
   "id": "ed076f62",
   "metadata": {},
   "outputs": [
    {
     "data": {
      "text/plain": [
       "'Anything-that-can-go-wrong,-will-go-wrong.'"
      ]
     },
     "execution_count": 130,
     "metadata": {},
     "output_type": "execute_result"
    }
   ],
   "source": [
    "\"-\".join(sentence.split())"
   ]
  },
  {
   "cell_type": "markdown",
   "id": "168194c8",
   "metadata": {},
   "source": [
    "The other useful method on strings is `strip`."
   ]
  },
  {
   "cell_type": "code",
   "execution_count": 131,
   "id": "6ecce5c0",
   "metadata": {},
   "outputs": [],
   "source": [
    "line = \"a b c\\n\""
   ]
  },
  {
   "cell_type": "code",
   "execution_count": 132,
   "id": "6214b1fc",
   "metadata": {},
   "outputs": [
    {
     "data": {
      "text/plain": [
       "'a b c'"
      ]
     },
     "execution_count": 132,
     "metadata": {},
     "output_type": "execute_result"
    }
   ],
   "source": [
    "line.strip()"
   ]
  },
  {
   "cell_type": "code",
   "execution_count": 133,
   "id": "87710f6d",
   "metadata": {},
   "outputs": [],
   "source": [
    "name = \"  python   \""
   ]
  },
  {
   "cell_type": "code",
   "execution_count": 134,
   "id": "248803f3",
   "metadata": {},
   "outputs": [
    {
     "data": {
      "text/plain": [
       "'python'"
      ]
     },
     "execution_count": 134,
     "metadata": {},
     "output_type": "execute_result"
    }
   ],
   "source": [
    "name.strip()"
   ]
  },
  {
   "cell_type": "markdown",
   "id": "6ef69405",
   "metadata": {},
   "source": [
    "**Problem:** Write a function `count_words` that takes a sentence as argument and returns the number of words it has.\n",
    "\n",
    "```\n",
    ">>> count_words(\"one two three\")\n",
    "3\n",
    ">>> count_words(\"the joy of programming\")\n",
    "4\n",
    "```"
   ]
  },
  {
   "cell_type": "code",
   "execution_count": 136,
   "id": "c94ce63e",
   "metadata": {},
   "outputs": [],
   "source": [
    "def square(x):\n",
    "    ..."
   ]
  },
  {
   "cell_type": "code",
   "execution_count": 141,
   "id": "dda726c0",
   "metadata": {},
   "outputs": [],
   "source": [
    "def count_words(sentence):\n",
    "    words = sentence.split()\n",
    "    return len(words)"
   ]
  },
  {
   "cell_type": "code",
   "execution_count": 142,
   "id": "bf2ca6ec",
   "metadata": {},
   "outputs": [
    {
     "data": {
      "text/plain": [
       "3"
      ]
     },
     "execution_count": 142,
     "metadata": {},
     "output_type": "execute_result"
    }
   ],
   "source": [
    "count_words(\"one two thee\")"
   ]
  },
  {
   "cell_type": "markdown",
   "id": "4f45a169",
   "metadata": {},
   "source": [
    "### Reading Files"
   ]
  },
  {
   "cell_type": "code",
   "execution_count": 146,
   "id": "69c5ad4d",
   "metadata": {},
   "outputs": [
    {
     "name": "stdout",
     "output_type": "stream",
     "text": [
      "Overwriting three.txt\n"
     ]
    }
   ],
   "source": [
    "%%file three.txt\n",
    "one\n",
    "two\n",
    "three"
   ]
  },
  {
   "cell_type": "code",
   "execution_count": 144,
   "id": "26866e01",
   "metadata": {},
   "outputs": [
    {
     "data": {
      "text/plain": [
       "'one\\ntwo\\nthree\\n'"
      ]
     },
     "execution_count": 144,
     "metadata": {},
     "output_type": "execute_result"
    }
   ],
   "source": [
    "# read all the contents as a single string\n",
    "open(\"three.txt\").read()"
   ]
  },
  {
   "cell_type": "code",
   "execution_count": 145,
   "id": "c5ca4014",
   "metadata": {},
   "outputs": [
    {
     "data": {
      "text/plain": [
       "['one\\n', 'two\\n', 'three\\n']"
      ]
     },
     "execution_count": 145,
     "metadata": {},
     "output_type": "execute_result"
    }
   ],
   "source": [
    "# read all the lines\n",
    "open(\"three.txt\").readlines()"
   ]
  },
  {
   "cell_type": "code",
   "execution_count": 147,
   "id": "29c8c9f8",
   "metadata": {},
   "outputs": [],
   "source": [
    "contents = open(\"three.txt\").read()"
   ]
  },
  {
   "cell_type": "code",
   "execution_count": 148,
   "id": "cbf69bd9",
   "metadata": {},
   "outputs": [
    {
     "data": {
      "text/plain": [
       "'one\\ntwo\\nthree\\n'"
      ]
     },
     "execution_count": 148,
     "metadata": {},
     "output_type": "execute_result"
    }
   ],
   "source": [
    "contents"
   ]
  },
  {
   "cell_type": "code",
   "execution_count": 149,
   "id": "28c5403f",
   "metadata": {},
   "outputs": [
    {
     "name": "stdout",
     "output_type": "stream",
     "text": [
      "one\n",
      "two\n",
      "three\n",
      "\n"
     ]
    }
   ],
   "source": [
    "print(contents)"
   ]
  },
  {
   "cell_type": "markdown",
   "id": "e33e9dd2",
   "metadata": {},
   "source": [
    "**Problem:** Write a function `count_lines` that takes a filename as argument and returns the number of lines in the file."
   ]
  },
  {
   "cell_type": "code",
   "execution_count": 150,
   "id": "9ae75078",
   "metadata": {},
   "outputs": [],
   "source": [
    "def count_lines(filename):\n",
    "    lines = open(filename).readlines()\n",
    "    return len(lines)"
   ]
  },
  {
   "cell_type": "code",
   "execution_count": 151,
   "id": "d47bd90d",
   "metadata": {},
   "outputs": [
    {
     "data": {
      "text/plain": [
       "3"
      ]
     },
     "execution_count": 151,
     "metadata": {},
     "output_type": "execute_result"
    }
   ],
   "source": [
    "count_lines(\"three.txt\")"
   ]
  },
  {
   "cell_type": "markdown",
   "id": "b1410589",
   "metadata": {},
   "source": [
    "### Modules"
   ]
  },
  {
   "cell_type": "code",
   "execution_count": 152,
   "id": "33d1e333",
   "metadata": {},
   "outputs": [],
   "source": [
    "import os"
   ]
  },
  {
   "cell_type": "code",
   "execution_count": 153,
   "id": "28e8278a",
   "metadata": {},
   "outputs": [
    {
     "data": {
      "text/plain": [
       "'/home/anand/github/anandology/practical-computing/notebooks'"
      ]
     },
     "execution_count": 153,
     "metadata": {},
     "output_type": "execute_result"
    }
   ],
   "source": [
    "os.getcwd()"
   ]
  },
  {
   "cell_type": "code",
   "execution_count": 154,
   "id": "05447172",
   "metadata": {},
   "outputs": [
    {
     "data": {
      "text/plain": [
       "['taste-of-python.qmd',\n",
       " '.ipynb_checkpoints',\n",
       " 'assignment-02.ipynb',\n",
       " 'introduction-to-python.ipynb',\n",
       " 'assignment-01.ipynb',\n",
       " 'three.txt',\n",
       " '1-introduction-to-python.ipynb',\n",
       " 'taste-of-python.quarto_ipynb',\n",
       " '1-taste-of-python.ipynb',\n",
       " 'five.txt']"
      ]
     },
     "execution_count": 154,
     "metadata": {},
     "output_type": "execute_result"
    }
   ],
   "source": [
    "# list all the files in the current directory\n",
    "os.listdir()"
   ]
  },
  {
   "cell_type": "code",
   "execution_count": 156,
   "id": "684caebe",
   "metadata": {},
   "outputs": [
    {
     "data": {
      "text/plain": [
       "['taste-of-python.qmd',\n",
       " '.ipynb_checkpoints',\n",
       " 'assignment-02.ipynb',\n",
       " 'introduction-to-python.ipynb',\n",
       " 'assignment-01.ipynb',\n",
       " 'three.txt',\n",
       " '1-introduction-to-python.ipynb',\n",
       " 'taste-of-python.quarto_ipynb',\n",
       " '1-taste-of-python.ipynb',\n",
       " 'five.txt']"
      ]
     },
     "execution_count": 156,
     "metadata": {},
     "output_type": "execute_result"
    }
   ],
   "source": [
    "os.listdir(\".\")"
   ]
  },
  {
   "cell_type": "code",
   "execution_count": 157,
   "id": "467da183",
   "metadata": {},
   "outputs": [
    {
     "data": {
      "text/plain": [
       "['plotting',\n",
       " 'git.qmd',\n",
       " 'about.aux',\n",
       " '_quarto.yml',\n",
       " 'publishing',\n",
       " 'notes.ipynb',\n",
       " '.ipynb_checkpoints',\n",
       " 'styles.css',\n",
       " 'README.md',\n",
       " 'problem-sets',\n",
       " '.git',\n",
       " 'notebooks',\n",
       " '_site',\n",
       " 'about.log',\n",
       " 'about.qmd',\n",
       " 'python.qmd',\n",
       " '.quarto',\n",
       " 'about.tex',\n",
       " 'session1.ipynb',\n",
       " 'index.qmd',\n",
       " '.gitignore',\n",
       " 'Makefile']"
      ]
     },
     "execution_count": 157,
     "metadata": {},
     "output_type": "execute_result"
    }
   ],
   "source": [
    "os.listdir(\"..\")"
   ]
  },
  {
   "cell_type": "code",
   "execution_count": 159,
   "id": "033850da",
   "metadata": {},
   "outputs": [],
   "source": [
    "import time"
   ]
  },
  {
   "cell_type": "code",
   "execution_count": 160,
   "id": "4172918d",
   "metadata": {},
   "outputs": [
    {
     "data": {
      "text/plain": [
       "'Mon Oct 14 17:35:23 2024'"
      ]
     },
     "execution_count": 160,
     "metadata": {},
     "output_type": "execute_result"
    }
   ],
   "source": [
    "time.asctime()"
   ]
  },
  {
   "cell_type": "code",
   "execution_count": 161,
   "id": "959b3ba8",
   "metadata": {},
   "outputs": [
    {
     "data": {
      "text/plain": [
       "'Mon Oct 14 17:35:32 2024'"
      ]
     },
     "execution_count": 161,
     "metadata": {},
     "output_type": "execute_result"
    }
   ],
   "source": [
    "time.asctime()"
   ]
  },
  {
   "cell_type": "code",
   "execution_count": 162,
   "id": "9e7f0331",
   "metadata": {},
   "outputs": [],
   "source": [
    "from time import asctime"
   ]
  },
  {
   "cell_type": "code",
   "execution_count": 163,
   "id": "39f24976",
   "metadata": {},
   "outputs": [
    {
     "data": {
      "text/plain": [
       "'Mon Oct 14 17:35:41 2024'"
      ]
     },
     "execution_count": 163,
     "metadata": {},
     "output_type": "execute_result"
    }
   ],
   "source": [
    "asctime()"
   ]
  },
  {
   "cell_type": "markdown",
   "id": "1615ad43",
   "metadata": {},
   "source": [
    "## Lists"
   ]
  },
  {
   "cell_type": "code",
   "execution_count": 165,
   "id": "5b5c8cb9",
   "metadata": {},
   "outputs": [],
   "source": [
    "x = ['a', 'b', 'c', 'd']"
   ]
  },
  {
   "cell_type": "code",
   "execution_count": 166,
   "id": "aae1c986",
   "metadata": {},
   "outputs": [
    {
     "data": {
      "text/plain": [
       "['a', 'b', 'c', 'd']"
      ]
     },
     "execution_count": 166,
     "metadata": {},
     "output_type": "execute_result"
    }
   ],
   "source": [
    "x"
   ]
  },
  {
   "cell_type": "code",
   "execution_count": 167,
   "id": "54caf0be",
   "metadata": {},
   "outputs": [
    {
     "data": {
      "text/plain": [
       "4"
      ]
     },
     "execution_count": 167,
     "metadata": {},
     "output_type": "execute_result"
    }
   ],
   "source": [
    "len(x)"
   ]
  },
  {
   "cell_type": "code",
   "execution_count": 168,
   "id": "29fd5874",
   "metadata": {},
   "outputs": [
    {
     "data": {
      "text/plain": [
       "'a'"
      ]
     },
     "execution_count": 168,
     "metadata": {},
     "output_type": "execute_result"
    }
   ],
   "source": [
    "x[0]"
   ]
  },
  {
   "cell_type": "code",
   "execution_count": 169,
   "id": "e64fb670",
   "metadata": {},
   "outputs": [],
   "source": [
    "names = [\"Alice\", \"Bob\", \"Charlie\"]"
   ]
  },
  {
   "cell_type": "code",
   "execution_count": 170,
   "id": "12747a24",
   "metadata": {},
   "outputs": [
    {
     "name": "stdout",
     "output_type": "stream",
     "text": [
      "Alice\n",
      "Bob\n",
      "Charlie\n"
     ]
    }
   ],
   "source": [
    "for name in names:\n",
    "    print(name)"
   ]
  },
  {
   "cell_type": "code",
   "execution_count": 171,
   "id": "6a4db90e",
   "metadata": {},
   "outputs": [
    {
     "name": "stdout",
     "output_type": "stream",
     "text": [
      "0\n",
      "1\n",
      "2\n",
      "3\n",
      "4\n"
     ]
    }
   ],
   "source": [
    "for i in range(5):\n",
    "    print(i)"
   ]
  },
  {
   "cell_type": "markdown",
   "id": "d3dfeabd",
   "metadata": {},
   "source": [
    "**Problem:** Write a function `product` to compute the product of given list of numbers."
   ]
  },
  {
   "cell_type": "code",
   "execution_count": 192,
   "id": "28eaf8c0",
   "metadata": {},
   "outputs": [],
   "source": [
    "def product(numbers):\n",
    "    result = 1\n",
    "#     print(\"begin result=\", result)\n",
    "    for n in numbers:\n",
    "        result = result * n\n",
    "#         print(\"n=\", n, \"result=\", result)\n",
    "    return result"
   ]
  },
  {
   "cell_type": "code",
   "execution_count": 193,
   "id": "e8a57ea8",
   "metadata": {},
   "outputs": [
    {
     "data": {
      "text/plain": [
       "80"
      ]
     },
     "execution_count": 193,
     "metadata": {},
     "output_type": "execute_result"
    }
   ],
   "source": [
    "product([2, 5, 8])"
   ]
  },
  {
   "cell_type": "code",
   "execution_count": 179,
   "id": "1577178c",
   "metadata": {},
   "outputs": [],
   "source": [
    "def say_hello(names):\n",
    "    for name in names:\n",
    "        print(\"Hello\", name)"
   ]
  },
  {
   "cell_type": "code",
   "execution_count": 181,
   "id": "5c980231",
   "metadata": {},
   "outputs": [
    {
     "name": "stdout",
     "output_type": "stream",
     "text": [
      "Hello Alice\n",
      "Hello Bob\n",
      "Hello Charlie\n"
     ]
    }
   ],
   "source": [
    "say_hello([\"Alice\", \"Bob\", \"Charlie\"])"
   ]
  },
  {
   "cell_type": "markdown",
   "id": "e0bc8f83",
   "metadata": {},
   "source": [
    "### List Indexing"
   ]
  },
  {
   "cell_type": "code",
   "execution_count": 194,
   "id": "17826430",
   "metadata": {},
   "outputs": [],
   "source": [
    "x = ['a', 'b', 'c', 'd', 'e']"
   ]
  },
  {
   "cell_type": "code",
   "execution_count": 195,
   "id": "4d6b4d42",
   "metadata": {},
   "outputs": [
    {
     "data": {
      "text/plain": [
       "'a'"
      ]
     },
     "execution_count": 195,
     "metadata": {},
     "output_type": "execute_result"
    }
   ],
   "source": [
    "x[0]"
   ]
  },
  {
   "cell_type": "markdown",
   "id": "7f26348c",
   "metadata": {},
   "source": [
    "How to get the last element?"
   ]
  },
  {
   "cell_type": "code",
   "execution_count": 196,
   "id": "18123a3a",
   "metadata": {},
   "outputs": [
    {
     "data": {
      "text/plain": [
       "'e'"
      ]
     },
     "execution_count": 196,
     "metadata": {},
     "output_type": "execute_result"
    }
   ],
   "source": [
    "x[len(x)-1]"
   ]
  },
  {
   "cell_type": "code",
   "execution_count": 197,
   "id": "33214e74",
   "metadata": {},
   "outputs": [
    {
     "data": {
      "text/plain": [
       "'Anything that can go wrong, will go wrong.'"
      ]
     },
     "execution_count": 197,
     "metadata": {},
     "output_type": "execute_result"
    }
   ],
   "source": [
    "sentence"
   ]
  },
  {
   "cell_type": "markdown",
   "id": "a8f697df",
   "metadata": {},
   "source": [
    "Can get the last word of the sentence?"
   ]
  },
  {
   "cell_type": "code",
   "execution_count": 199,
   "id": "e99fdd77",
   "metadata": {},
   "outputs": [
    {
     "data": {
      "text/plain": [
       "'wrong.'"
      ]
     },
     "execution_count": 199,
     "metadata": {},
     "output_type": "execute_result"
    }
   ],
   "source": [
    "words = sentence.split()\n",
    "words[len(words)-1]"
   ]
  },
  {
   "cell_type": "code",
   "execution_count": 200,
   "id": "65e6cf03",
   "metadata": {},
   "outputs": [
    {
     "data": {
      "text/plain": [
       "'e'"
      ]
     },
     "execution_count": 200,
     "metadata": {},
     "output_type": "execute_result"
    }
   ],
   "source": [
    "x[len(x)-1]"
   ]
  },
  {
   "cell_type": "code",
   "execution_count": 201,
   "id": "15b967ee",
   "metadata": {},
   "outputs": [
    {
     "data": {
      "text/plain": [
       "'e'"
      ]
     },
     "execution_count": 201,
     "metadata": {},
     "output_type": "execute_result"
    }
   ],
   "source": [
    "x[-1]"
   ]
  },
  {
   "cell_type": "code",
   "execution_count": 202,
   "id": "f1d33dbb",
   "metadata": {},
   "outputs": [
    {
     "data": {
      "text/plain": [
       "'wrong.'"
      ]
     },
     "execution_count": 202,
     "metadata": {},
     "output_type": "execute_result"
    }
   ],
   "source": [
    "sentence.split()[-1]"
   ]
  },
  {
   "cell_type": "markdown",
   "id": "726979a1",
   "metadata": {},
   "source": [
    "```\n",
    "+----+----+----+----+\n",
    "|  a |  b |  c |  d |\n",
    "+----+----+----+----+\n",
    "|  0 |  1 |  2 |  3 | --> regular index\n",
    "+----+----+----+----+\n",
    "| -4 | -3 | -2 | -1 | <-- negative index\n",
    "+----+----+----+----+\n",
    "```"
   ]
  },
  {
   "cell_type": "markdown",
   "id": "a1bcb212",
   "metadata": {},
   "source": [
    "### List Slicing"
   ]
  },
  {
   "cell_type": "code",
   "execution_count": 204,
   "id": "b58c6a21",
   "metadata": {},
   "outputs": [],
   "source": [
    "x = [\"zero\", \"one\", \"two\", \"three\", \"four\", \"five\", \"six\", \"seven\"]"
   ]
  },
  {
   "cell_type": "code",
   "execution_count": 205,
   "id": "785341ff",
   "metadata": {},
   "outputs": [
    {
     "data": {
      "text/plain": [
       "['zero', 'one']"
      ]
     },
     "execution_count": 205,
     "metadata": {},
     "output_type": "execute_result"
    }
   ],
   "source": [
    "x[0:2] # from index 0 to 2 (the end is not included)"
   ]
  },
  {
   "cell_type": "code",
   "execution_count": 206,
   "id": "4d2c9e31",
   "metadata": {},
   "outputs": [
    {
     "data": {
      "text/plain": [
       "['zero', 'one']"
      ]
     },
     "execution_count": 206,
     "metadata": {},
     "output_type": "execute_result"
    }
   ],
   "source": [
    "x[:2] # upto index 2"
   ]
  },
  {
   "cell_type": "code",
   "execution_count": 207,
   "id": "5aa8842e",
   "metadata": {},
   "outputs": [
    {
     "data": {
      "text/plain": [
       "['two', 'three', 'four', 'five', 'six', 'seven']"
      ]
     },
     "execution_count": 207,
     "metadata": {},
     "output_type": "execute_result"
    }
   ],
   "source": [
    "x[2:] # index 2 onwards"
   ]
  },
  {
   "cell_type": "code",
   "execution_count": 208,
   "id": "43c358a2",
   "metadata": {},
   "outputs": [
    {
     "data": {
      "text/plain": [
       "['one', 'two', 'three', 'four', 'five']"
      ]
     },
     "execution_count": 208,
     "metadata": {},
     "output_type": "execute_result"
    }
   ],
   "source": [
    "x[1:6] # index 1 to 6"
   ]
  },
  {
   "cell_type": "code",
   "execution_count": 209,
   "id": "a3df8b5c",
   "metadata": {},
   "outputs": [
    {
     "data": {
      "text/plain": [
       "['one', 'three', 'five']"
      ]
     },
     "execution_count": 209,
     "metadata": {},
     "output_type": "execute_result"
    }
   ],
   "source": [
    "x[1:6:2] # index 1 to 6 in steps of 2"
   ]
  },
  {
   "cell_type": "markdown",
   "id": "c622e5d3",
   "metadata": {},
   "source": [
    "How about all but the first element?"
   ]
  },
  {
   "cell_type": "code",
   "execution_count": 210,
   "id": "f02beec9",
   "metadata": {},
   "outputs": [
    {
     "data": {
      "text/plain": [
       "['one', 'two', 'three', 'four', 'five', 'six', 'seven']"
      ]
     },
     "execution_count": 210,
     "metadata": {},
     "output_type": "execute_result"
    }
   ],
   "source": [
    "x[1:]"
   ]
  },
  {
   "cell_type": "code",
   "execution_count": 212,
   "id": "d061dc92",
   "metadata": {},
   "outputs": [
    {
     "data": {
      "text/plain": [
       "['zero', 'two', 'four', 'six']"
      ]
     },
     "execution_count": 212,
     "metadata": {},
     "output_type": "execute_result"
    }
   ],
   "source": [
    "x[::2]"
   ]
  },
  {
   "cell_type": "code",
   "execution_count": 213,
   "id": "5530e935",
   "metadata": {},
   "outputs": [
    {
     "data": {
      "text/plain": [
       "['zero', 'one', 'two', 'three', 'four', 'five', 'six']"
      ]
     },
     "execution_count": 213,
     "metadata": {},
     "output_type": "execute_result"
    }
   ],
   "source": [
    "x[:-1] # everything but the last"
   ]
  },
  {
   "cell_type": "code",
   "execution_count": 214,
   "id": "949da0bc",
   "metadata": {},
   "outputs": [
    {
     "data": {
      "text/plain": [
       "['seven', 'six', 'five', 'four', 'three', 'two', 'one', 'zero']"
      ]
     },
     "execution_count": 214,
     "metadata": {},
     "output_type": "execute_result"
    }
   ],
   "source": [
    "x[::-1]"
   ]
  },
  {
   "cell_type": "code",
   "execution_count": 215,
   "id": "2c5e74b9",
   "metadata": {},
   "outputs": [
    {
     "data": {
      "text/plain": [
       "8"
      ]
     },
     "execution_count": 215,
     "metadata": {},
     "output_type": "execute_result"
    }
   ],
   "source": [
    "[2, 5, 8][-1]"
   ]
  },
  {
   "cell_type": "code",
   "execution_count": 216,
   "id": "adcc42ac",
   "metadata": {},
   "outputs": [
    {
     "data": {
      "text/plain": [
       "8"
      ]
     },
     "execution_count": 216,
     "metadata": {},
     "output_type": "execute_result"
    }
   ],
   "source": [
    "a = [2, 5, 8]\n",
    "a[-1]"
   ]
  },
  {
   "cell_type": "markdown",
   "id": "31fa85cf",
   "metadata": {},
   "source": [
    "### Growing Lists"
   ]
  },
  {
   "cell_type": "code",
   "execution_count": 217,
   "id": "f70da60b",
   "metadata": {},
   "outputs": [],
   "source": [
    "x = [1, 2, 3, 4]"
   ]
  },
  {
   "cell_type": "code",
   "execution_count": 218,
   "id": "caf3e6bf",
   "metadata": {},
   "outputs": [],
   "source": [
    "x.append(5)"
   ]
  },
  {
   "cell_type": "code",
   "execution_count": 219,
   "id": "8519bc42",
   "metadata": {},
   "outputs": [
    {
     "data": {
      "text/plain": [
       "[1, 2, 3, 4, 5]"
      ]
     },
     "execution_count": 219,
     "metadata": {},
     "output_type": "execute_result"
    }
   ],
   "source": [
    "x"
   ]
  },
  {
   "cell_type": "markdown",
   "id": "403fce50",
   "metadata": {},
   "source": [
    "## List Comprehensions"
   ]
  },
  {
   "cell_type": "code",
   "execution_count": 220,
   "id": "b4d709a1",
   "metadata": {},
   "outputs": [],
   "source": [
    "numbers = [1, 2, 3, 4, 5]"
   ]
  },
  {
   "cell_type": "markdown",
   "id": "ce6c634f",
   "metadata": {},
   "source": [
    "How to compute squares of all these numbers?"
   ]
  },
  {
   "cell_type": "code",
   "execution_count": 221,
   "id": "a3a07e8d",
   "metadata": {},
   "outputs": [],
   "source": [
    "def squares(numbers):\n",
    "    result = []\n",
    "    for n in numbers:\n",
    "        result.append(n*n)\n",
    "    return result"
   ]
  },
  {
   "cell_type": "code",
   "execution_count": 222,
   "id": "4b466373",
   "metadata": {},
   "outputs": [
    {
     "data": {
      "text/plain": [
       "[1, 4, 9, 16, 25]"
      ]
     },
     "execution_count": 222,
     "metadata": {},
     "output_type": "execute_result"
    }
   ],
   "source": [
    "squares(numbers)"
   ]
  },
  {
   "cell_type": "code",
   "execution_count": 223,
   "id": "0700107d",
   "metadata": {},
   "outputs": [
    {
     "data": {
      "text/plain": [
       "[1, 4, 9, 16, 25]"
      ]
     },
     "execution_count": 223,
     "metadata": {},
     "output_type": "execute_result"
    }
   ],
   "source": [
    "[n*n for n in numbers]"
   ]
  },
  {
   "cell_type": "code",
   "execution_count": 232,
   "id": "5767cb41",
   "metadata": {},
   "outputs": [
    {
     "data": {
      "text/plain": [
       "[4, 16]"
      ]
     },
     "execution_count": 232,
     "metadata": {},
     "output_type": "execute_result"
    }
   ],
   "source": [
    "[n*n for n in numbers if n%2 == 0]"
   ]
  },
  {
   "cell_type": "code",
   "execution_count": 224,
   "id": "d9d8eac3",
   "metadata": {},
   "outputs": [
    {
     "name": "stdout",
     "output_type": "stream",
     "text": [
      "Writing 5.txt\n"
     ]
    }
   ],
   "source": [
    "%%file 5.txt\n",
    "1\n",
    "2\n",
    "3\n",
    "4\n",
    "5"
   ]
  },
  {
   "cell_type": "code",
   "execution_count": 225,
   "id": "c276001c",
   "metadata": {},
   "outputs": [
    {
     "data": {
      "text/plain": [
       "['1\\n', '2\\n', '3\\n', '4\\n', '5\\n']"
      ]
     },
     "execution_count": 225,
     "metadata": {},
     "output_type": "execute_result"
    }
   ],
   "source": [
    "open(\"5.txt\").readlines()"
   ]
  },
  {
   "cell_type": "code",
   "execution_count": 226,
   "id": "13c1e4e3",
   "metadata": {},
   "outputs": [],
   "source": [
    "lines = open(\"5.txt\").readlines()"
   ]
  },
  {
   "cell_type": "code",
   "execution_count": 227,
   "id": "d65b7f10",
   "metadata": {},
   "outputs": [
    {
     "data": {
      "text/plain": [
       "['1\\n', '2\\n', '3\\n', '4\\n', '5\\n']"
      ]
     },
     "execution_count": 227,
     "metadata": {},
     "output_type": "execute_result"
    }
   ],
   "source": [
    "lines"
   ]
  },
  {
   "cell_type": "code",
   "execution_count": 228,
   "id": "efca3301",
   "metadata": {},
   "outputs": [
    {
     "data": {
      "text/plain": [
       "[1, 2, 3, 4, 5]"
      ]
     },
     "execution_count": 228,
     "metadata": {},
     "output_type": "execute_result"
    }
   ],
   "source": [
    "[int(line) for line in lines]"
   ]
  },
  {
   "cell_type": "code",
   "execution_count": 229,
   "id": "1e1f99b5",
   "metadata": {},
   "outputs": [
    {
     "data": {
      "text/plain": [
       "15"
      ]
     },
     "execution_count": 229,
     "metadata": {},
     "output_type": "execute_result"
    }
   ],
   "source": [
    "sum([int(line) for line in lines])"
   ]
  },
  {
   "cell_type": "code",
   "execution_count": 230,
   "id": "fa41709b",
   "metadata": {},
   "outputs": [],
   "source": [
    "def sumfile(filename):\n",
    "    lines = open(filename).readlines()\n",
    "    numbers = [int(line) for line in lines]\n",
    "    return sum(numbers)"
   ]
  },
  {
   "cell_type": "code",
   "execution_count": 231,
   "id": "d0476028",
   "metadata": {},
   "outputs": [
    {
     "data": {
      "text/plain": [
       "15"
      ]
     },
     "execution_count": 231,
     "metadata": {},
     "output_type": "execute_result"
    }
   ],
   "source": [
    "sumfile(\"5.txt\")"
   ]
  },
  {
   "cell_type": "markdown",
   "id": "d9ecaba6",
   "metadata": {},
   "source": [
    "Find all the ipynb files."
   ]
  },
  {
   "cell_type": "code",
   "execution_count": 235,
   "id": "2863e8b0",
   "metadata": {},
   "outputs": [
    {
     "data": {
      "text/plain": [
       "['assignment-02.ipynb',\n",
       " 'introduction-to-python.ipynb',\n",
       " 'assignment-01.ipynb',\n",
       " '1-introduction-to-python.ipynb',\n",
       " '1-taste-of-python.ipynb']"
      ]
     },
     "execution_count": 235,
     "metadata": {},
     "output_type": "execute_result"
    }
   ],
   "source": [
    "[f for f in os.listdir() if f.endswith(\".ipynb\")]"
   ]
  },
  {
   "cell_type": "code",
   "execution_count": null,
   "id": "dbc0fb6d",
   "metadata": {},
   "outputs": [],
   "source": []
  }
 ],
 "metadata": {
  "kernelspec": {
   "display_name": "Python 3 (ipykernel)",
   "language": "python",
   "name": "python3"
  },
  "language_info": {
   "codemirror_mode": {
    "name": "ipython",
    "version": 3
   },
   "file_extension": ".py",
   "mimetype": "text/x-python",
   "name": "python",
   "nbconvert_exporter": "python",
   "pygments_lexer": "ipython3",
   "version": "3.11.7"
  }
 },
 "nbformat": 4,
 "nbformat_minor": 5
}
